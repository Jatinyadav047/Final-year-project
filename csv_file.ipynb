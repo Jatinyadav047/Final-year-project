{
 "cells": [
  {
   "cell_type": "code",
   "execution_count": 7,
   "metadata": {},
   "outputs": [],
   "source": [
    "import numpy as np\n",
    "import pandas as pd "
   ]
  },
  {
   "cell_type": "code",
   "execution_count": 8,
   "metadata": {},
   "outputs": [
    {
     "name": "stderr",
     "output_type": "stream",
     "text": [
      "<>:2: SyntaxWarning: invalid escape sequence '\\G'\n",
      "<>:2: SyntaxWarning: invalid escape sequence '\\G'\n",
      "C:\\Users\\jatin\\AppData\\Local\\Temp\\ipykernel_18332\\1438080487.py:2: SyntaxWarning: invalid escape sequence '\\G'\n",
      "  data = pd.read_csv('D:\\Github repos\\Final-year-project\\Csv\\F0L.csv')\n"
     ]
    },
    {
     "data": {
      "text/html": [
       "<div>\n",
       "<style scoped>\n",
       "    .dataframe tbody tr th:only-of-type {\n",
       "        vertical-align: middle;\n",
       "    }\n",
       "\n",
       "    .dataframe tbody tr th {\n",
       "        vertical-align: top;\n",
       "    }\n",
       "\n",
       "    .dataframe thead th {\n",
       "        text-align: right;\n",
       "    }\n",
       "</style>\n",
       "<table border=\"1\" class=\"dataframe\">\n",
       "  <thead>\n",
       "    <tr style=\"text-align: right;\">\n",
       "      <th></th>\n",
       "      <th>Time</th>\n",
       "      <th>Ipv</th>\n",
       "      <th>Vpv</th>\n",
       "      <th>Vdc</th>\n",
       "      <th>ia</th>\n",
       "      <th>ib</th>\n",
       "      <th>ic</th>\n",
       "      <th>va</th>\n",
       "      <th>vb</th>\n",
       "      <th>vc</th>\n",
       "      <th>Iabc</th>\n",
       "      <th>If</th>\n",
       "      <th>Vabc</th>\n",
       "      <th>Vf</th>\n",
       "    </tr>\n",
       "  </thead>\n",
       "  <tbody>\n",
       "    <tr>\n",
       "      <th>0</th>\n",
       "      <td>0.000028</td>\n",
       "      <td>1.572327</td>\n",
       "      <td>101.348877</td>\n",
       "      <td>144.140625</td>\n",
       "      <td>-0.135133</td>\n",
       "      <td>0.490112</td>\n",
       "      <td>-0.354985</td>\n",
       "      <td>41.744537</td>\n",
       "      <td>-149.872894</td>\n",
       "      <td>109.064585</td>\n",
       "      <td>1.0</td>\n",
       "      <td>50.0</td>\n",
       "      <td>1.0</td>\n",
       "      <td>50.0</td>\n",
       "    </tr>\n",
       "    <tr>\n",
       "      <th>1</th>\n",
       "      <td>0.000128</td>\n",
       "      <td>1.503265</td>\n",
       "      <td>101.458740</td>\n",
       "      <td>143.554688</td>\n",
       "      <td>-0.108277</td>\n",
       "      <td>0.510254</td>\n",
       "      <td>-0.388555</td>\n",
       "      <td>46.831512</td>\n",
       "      <td>-150.716705</td>\n",
       "      <td>105.829976</td>\n",
       "      <td>1.0</td>\n",
       "      <td>50.0</td>\n",
       "      <td>1.0</td>\n",
       "      <td>50.0</td>\n",
       "    </tr>\n",
       "    <tr>\n",
       "      <th>2</th>\n",
       "      <td>0.000228</td>\n",
       "      <td>1.492859</td>\n",
       "      <td>101.574707</td>\n",
       "      <td>143.554688</td>\n",
       "      <td>-0.168702</td>\n",
       "      <td>0.496826</td>\n",
       "      <td>-0.334844</td>\n",
       "      <td>51.074677</td>\n",
       "      <td>-152.018585</td>\n",
       "      <td>102.543132</td>\n",
       "      <td>1.0</td>\n",
       "      <td>50.0</td>\n",
       "      <td>1.0</td>\n",
       "      <td>50.0</td>\n",
       "    </tr>\n",
       "    <tr>\n",
       "      <th>3</th>\n",
       "      <td>0.000328</td>\n",
       "      <td>1.558136</td>\n",
       "      <td>101.312256</td>\n",
       "      <td>143.261719</td>\n",
       "      <td>-0.135133</td>\n",
       "      <td>0.510254</td>\n",
       "      <td>-0.361699</td>\n",
       "      <td>55.848236</td>\n",
       "      <td>-152.585144</td>\n",
       "      <td>98.143260</td>\n",
       "      <td>1.0</td>\n",
       "      <td>50.0</td>\n",
       "      <td>1.0</td>\n",
       "      <td>50.0</td>\n",
       "    </tr>\n",
       "    <tr>\n",
       "      <th>4</th>\n",
       "      <td>0.000428</td>\n",
       "      <td>1.631927</td>\n",
       "      <td>101.141357</td>\n",
       "      <td>143.847656</td>\n",
       "      <td>-0.202271</td>\n",
       "      <td>0.503540</td>\n",
       "      <td>-0.321416</td>\n",
       "      <td>60.055237</td>\n",
       "      <td>-152.609253</td>\n",
       "      <td>94.261729</td>\n",
       "      <td>1.0</td>\n",
       "      <td>50.0</td>\n",
       "      <td>1.0</td>\n",
       "      <td>50.0</td>\n",
       "    </tr>\n",
       "    <tr>\n",
       "      <th>...</th>\n",
       "      <td>...</td>\n",
       "      <td>...</td>\n",
       "      <td>...</td>\n",
       "      <td>...</td>\n",
       "      <td>...</td>\n",
       "      <td>...</td>\n",
       "      <td>...</td>\n",
       "      <td>...</td>\n",
       "      <td>...</td>\n",
       "      <td>...</td>\n",
       "      <td>...</td>\n",
       "      <td>...</td>\n",
       "      <td>...</td>\n",
       "      <td>...</td>\n",
       "    </tr>\n",
       "    <tr>\n",
       "      <th>95</th>\n",
       "      <td>0.009527</td>\n",
       "      <td>1.542999</td>\n",
       "      <td>101.220703</td>\n",
       "      <td>142.968750</td>\n",
       "      <td>0.039428</td>\n",
       "      <td>-0.422974</td>\n",
       "      <td>0.363398</td>\n",
       "      <td>-17.804413</td>\n",
       "      <td>141.434784</td>\n",
       "      <td>-124.349620</td>\n",
       "      <td>1.0</td>\n",
       "      <td>50.0</td>\n",
       "      <td>1.0</td>\n",
       "      <td>50.0</td>\n",
       "    </tr>\n",
       "    <tr>\n",
       "      <th>96</th>\n",
       "      <td>0.009627</td>\n",
       "      <td>1.603546</td>\n",
       "      <td>101.202393</td>\n",
       "      <td>143.261719</td>\n",
       "      <td>0.026000</td>\n",
       "      <td>-0.476685</td>\n",
       "      <td>0.403682</td>\n",
       "      <td>-23.325348</td>\n",
       "      <td>143.074188</td>\n",
       "      <td>-121.701660</td>\n",
       "      <td>1.0</td>\n",
       "      <td>50.0</td>\n",
       "      <td>1.0</td>\n",
       "      <td>50.0</td>\n",
       "    </tr>\n",
       "    <tr>\n",
       "      <th>97</th>\n",
       "      <td>0.009727</td>\n",
       "      <td>1.551514</td>\n",
       "      <td>101.171875</td>\n",
       "      <td>142.675781</td>\n",
       "      <td>0.066283</td>\n",
       "      <td>-0.456543</td>\n",
       "      <td>0.336543</td>\n",
       "      <td>-27.857819</td>\n",
       "      <td>145.943146</td>\n",
       "      <td>-119.202372</td>\n",
       "      <td>1.0</td>\n",
       "      <td>50.0</td>\n",
       "      <td>1.0</td>\n",
       "      <td>50.0</td>\n",
       "    </tr>\n",
       "    <tr>\n",
       "      <th>98</th>\n",
       "      <td>0.009827</td>\n",
       "      <td>1.490021</td>\n",
       "      <td>101.055908</td>\n",
       "      <td>143.261719</td>\n",
       "      <td>0.052855</td>\n",
       "      <td>-0.483398</td>\n",
       "      <td>0.376826</td>\n",
       "      <td>-31.871948</td>\n",
       "      <td>147.498169</td>\n",
       "      <td>-116.068217</td>\n",
       "      <td>1.0</td>\n",
       "      <td>50.0</td>\n",
       "      <td>1.0</td>\n",
       "      <td>50.0</td>\n",
       "    </tr>\n",
       "    <tr>\n",
       "      <th>99</th>\n",
       "      <td>0.009927</td>\n",
       "      <td>1.502319</td>\n",
       "      <td>101.306152</td>\n",
       "      <td>142.968750</td>\n",
       "      <td>0.106566</td>\n",
       "      <td>-0.476685</td>\n",
       "      <td>0.316401</td>\n",
       "      <td>-37.380829</td>\n",
       "      <td>148.257599</td>\n",
       "      <td>-112.415721</td>\n",
       "      <td>1.0</td>\n",
       "      <td>50.0</td>\n",
       "      <td>1.0</td>\n",
       "      <td>50.0</td>\n",
       "    </tr>\n",
       "  </tbody>\n",
       "</table>\n",
       "<p>100 rows × 14 columns</p>\n",
       "</div>"
      ],
      "text/plain": [
       "        Time       Ipv         Vpv         Vdc        ia        ib        ic  \\\n",
       "0   0.000028  1.572327  101.348877  144.140625 -0.135133  0.490112 -0.354985   \n",
       "1   0.000128  1.503265  101.458740  143.554688 -0.108277  0.510254 -0.388555   \n",
       "2   0.000228  1.492859  101.574707  143.554688 -0.168702  0.496826 -0.334844   \n",
       "3   0.000328  1.558136  101.312256  143.261719 -0.135133  0.510254 -0.361699   \n",
       "4   0.000428  1.631927  101.141357  143.847656 -0.202271  0.503540 -0.321416   \n",
       "..       ...       ...         ...         ...       ...       ...       ...   \n",
       "95  0.009527  1.542999  101.220703  142.968750  0.039428 -0.422974  0.363398   \n",
       "96  0.009627  1.603546  101.202393  143.261719  0.026000 -0.476685  0.403682   \n",
       "97  0.009727  1.551514  101.171875  142.675781  0.066283 -0.456543  0.336543   \n",
       "98  0.009827  1.490021  101.055908  143.261719  0.052855 -0.483398  0.376826   \n",
       "99  0.009927  1.502319  101.306152  142.968750  0.106566 -0.476685  0.316401   \n",
       "\n",
       "           va          vb          vc  Iabc    If  Vabc    Vf  \n",
       "0   41.744537 -149.872894  109.064585   1.0  50.0   1.0  50.0  \n",
       "1   46.831512 -150.716705  105.829976   1.0  50.0   1.0  50.0  \n",
       "2   51.074677 -152.018585  102.543132   1.0  50.0   1.0  50.0  \n",
       "3   55.848236 -152.585144   98.143260   1.0  50.0   1.0  50.0  \n",
       "4   60.055237 -152.609253   94.261729   1.0  50.0   1.0  50.0  \n",
       "..        ...         ...         ...   ...   ...   ...   ...  \n",
       "95 -17.804413  141.434784 -124.349620   1.0  50.0   1.0  50.0  \n",
       "96 -23.325348  143.074188 -121.701660   1.0  50.0   1.0  50.0  \n",
       "97 -27.857819  145.943146 -119.202372   1.0  50.0   1.0  50.0  \n",
       "98 -31.871948  147.498169 -116.068217   1.0  50.0   1.0  50.0  \n",
       "99 -37.380829  148.257599 -112.415721   1.0  50.0   1.0  50.0  \n",
       "\n",
       "[100 rows x 14 columns]"
      ]
     },
     "execution_count": 8,
     "metadata": {},
     "output_type": "execute_result"
    }
   ],
   "source": [
    "#Read the data present in dataset\n",
    "data = pd.read_csv('D:\\Github repos\\Final-year-project\\Csv\\F0L.csv')\n",
    "#Using data.head() we can see the top 5 rows of the dataset\n",
    "data.head(100)"
   ]
  },
  {
   "cell_type": "code",
   "execution_count": 28,
   "metadata": {},
   "outputs": [
    {
     "name": "stderr",
     "output_type": "stream",
     "text": [
      "<>:2: SyntaxWarning: invalid escape sequence '\\G'\n",
      "<>:10: SyntaxWarning: invalid escape sequence '\\G'\n",
      "<>:2: SyntaxWarning: invalid escape sequence '\\G'\n",
      "<>:10: SyntaxWarning: invalid escape sequence '\\G'\n",
      "C:\\Users\\jatin\\AppData\\Local\\Temp\\ipykernel_18332\\2620009484.py:2: SyntaxWarning: invalid escape sequence '\\G'\n",
      "  df = pd.read_csv('D:\\Github repos\\Final-year-project\\Csv\\F0L.csv')\n",
      "C:\\Users\\jatin\\AppData\\Local\\Temp\\ipykernel_18332\\2620009484.py:10: SyntaxWarning: invalid escape sequence '\\G'\n",
      "  df.to_csv('D:\\Github repos\\Final-year-project\\Csv\\F0L.csv', index=False)\n"
     ]
    },
    {
     "ename": "ValueError",
     "evalue": "cannot insert Type, already exists",
     "output_type": "error",
     "traceback": [
      "\u001b[1;31m---------------------------------------------------------------------------\u001b[0m",
      "\u001b[1;31mValueError\u001b[0m                                Traceback (most recent call last)",
      "\u001b[1;32m~\\AppData\\Local\\Temp\\ipykernel_18332\\2620009484.py\u001b[0m in \u001b[0;36m?\u001b[1;34m()\u001b[0m\n\u001b[0;32m      4\u001b[0m \u001b[1;31m# Step 2: Create a new column with the value 'A'\u001b[0m\u001b[1;33m\u001b[0m\u001b[1;33m\u001b[0m\u001b[0m\n\u001b[0;32m      5\u001b[0m \u001b[0mnew_column\u001b[0m \u001b[1;33m=\u001b[0m \u001b[0mnp\u001b[0m\u001b[1;33m.\u001b[0m\u001b[0marray\u001b[0m\u001b[1;33m(\u001b[0m\u001b[1;33m[\u001b[0m\u001b[1;34m'F0L'\u001b[0m\u001b[1;33m]\u001b[0m \u001b[1;33m*\u001b[0m \u001b[0mlen\u001b[0m\u001b[1;33m(\u001b[0m\u001b[0mdf\u001b[0m\u001b[1;33m)\u001b[0m\u001b[1;33m)\u001b[0m\u001b[1;33m\u001b[0m\u001b[1;33m\u001b[0m\u001b[0m\n\u001b[0;32m      6\u001b[0m \u001b[1;33m\u001b[0m\u001b[0m\n\u001b[0;32m      7\u001b[0m \u001b[1;31m# Step 3: Insert the new column at index 1 (second position)\u001b[0m\u001b[1;33m\u001b[0m\u001b[1;33m\u001b[0m\u001b[0m\n\u001b[1;32m----> 8\u001b[1;33m \u001b[0mdf\u001b[0m\u001b[1;33m.\u001b[0m\u001b[0minsert\u001b[0m\u001b[1;33m(\u001b[0m\u001b[1;36m14\u001b[0m\u001b[1;33m,\u001b[0m \u001b[1;34m'Type'\u001b[0m\u001b[1;33m,\u001b[0m \u001b[0mnew_column\u001b[0m\u001b[1;33m)\u001b[0m\u001b[1;33m\u001b[0m\u001b[1;33m\u001b[0m\u001b[0m\n\u001b[0m\u001b[0;32m      9\u001b[0m \u001b[1;31m# Step 4: Save the updated DataFrame back to a new CSV file\u001b[0m\u001b[1;33m\u001b[0m\u001b[1;33m\u001b[0m\u001b[0m\n\u001b[0;32m     10\u001b[0m \u001b[0mdf\u001b[0m\u001b[1;33m.\u001b[0m\u001b[0mto_csv\u001b[0m\u001b[1;33m(\u001b[0m\u001b[1;34m'D:\\Github repos\\Final-year-project\\Csv\\F0L.csv'\u001b[0m\u001b[1;33m,\u001b[0m \u001b[0mindex\u001b[0m\u001b[1;33m=\u001b[0m\u001b[1;32mFalse\u001b[0m\u001b[1;33m)\u001b[0m\u001b[1;33m\u001b[0m\u001b[1;33m\u001b[0m\u001b[0m\n",
      "\u001b[1;32mc:\\Users\\jatin\\AppData\\Local\\Programs\\Python\\Python312\\Lib\\site-packages\\pandas\\core\\frame.py\u001b[0m in \u001b[0;36m?\u001b[1;34m(self, loc, column, value, allow_duplicates)\u001b[0m\n\u001b[0;32m   5154\u001b[0m                 \u001b[1;34m\"'self.flags.allows_duplicate_labels' is False.\"\u001b[0m\u001b[1;33m\u001b[0m\u001b[1;33m\u001b[0m\u001b[0m\n\u001b[0;32m   5155\u001b[0m             \u001b[1;33m)\u001b[0m\u001b[1;33m\u001b[0m\u001b[1;33m\u001b[0m\u001b[0m\n\u001b[0;32m   5156\u001b[0m         \u001b[1;32mif\u001b[0m \u001b[1;32mnot\u001b[0m \u001b[0mallow_duplicates\u001b[0m \u001b[1;32mand\u001b[0m \u001b[0mcolumn\u001b[0m \u001b[1;32min\u001b[0m \u001b[0mself\u001b[0m\u001b[1;33m.\u001b[0m\u001b[0mcolumns\u001b[0m\u001b[1;33m:\u001b[0m\u001b[1;33m\u001b[0m\u001b[1;33m\u001b[0m\u001b[0m\n\u001b[0;32m   5157\u001b[0m             \u001b[1;31m# Should this be a different kind of error??\u001b[0m\u001b[1;33m\u001b[0m\u001b[1;33m\u001b[0m\u001b[0m\n\u001b[1;32m-> 5158\u001b[1;33m             \u001b[1;32mraise\u001b[0m \u001b[0mValueError\u001b[0m\u001b[1;33m(\u001b[0m\u001b[1;33mf\"\u001b[0m\u001b[1;33mcannot insert \u001b[0m\u001b[1;33m{\u001b[0m\u001b[0mcolumn\u001b[0m\u001b[1;33m}\u001b[0m\u001b[1;33m, already exists\u001b[0m\u001b[1;33m\"\u001b[0m\u001b[1;33m)\u001b[0m\u001b[1;33m\u001b[0m\u001b[1;33m\u001b[0m\u001b[0m\n\u001b[0m\u001b[0;32m   5159\u001b[0m         \u001b[1;32mif\u001b[0m \u001b[1;32mnot\u001b[0m \u001b[0mis_integer\u001b[0m\u001b[1;33m(\u001b[0m\u001b[0mloc\u001b[0m\u001b[1;33m)\u001b[0m\u001b[1;33m:\u001b[0m\u001b[1;33m\u001b[0m\u001b[1;33m\u001b[0m\u001b[0m\n\u001b[0;32m   5160\u001b[0m             \u001b[1;32mraise\u001b[0m \u001b[0mTypeError\u001b[0m\u001b[1;33m(\u001b[0m\u001b[1;34m\"loc must be int\"\u001b[0m\u001b[1;33m)\u001b[0m\u001b[1;33m\u001b[0m\u001b[1;33m\u001b[0m\u001b[0m\n\u001b[0;32m   5161\u001b[0m         \u001b[1;31m# convert non stdlib ints to satisfy typing checks\u001b[0m\u001b[1;33m\u001b[0m\u001b[1;33m\u001b[0m\u001b[0m\n",
      "\u001b[1;31mValueError\u001b[0m: cannot insert Type, already exists"
     ]
    }
   ],
   "source": [
    "\n",
    "\n",
    "# Step 1: Load the CSV file into a DataFrame\n",
    "df = pd.read_csv('D:\\Github repos\\Final-year-project\\Csv\\F0L.csv')\n",
    "\n",
    "# Step 2: Create a new column with the value 'A'\n",
    "new_column = np.array(['F0L'] * len(df))\n",
    "\n",
    "# Step 3: Insert the new column at index 1 (second position)\n",
    "df.insert(14, 'Type', new_column)\n",
    "# Step 4: Save the updated DataFrame back to a new CSV file\n",
    "df.to_csv('D:\\Github repos\\Final-year-project\\Csv\\F0L.csv', index=False)"
   ]
  },
  {
   "cell_type": "code",
   "execution_count": 10,
   "metadata": {},
   "outputs": [
    {
     "name": "stderr",
     "output_type": "stream",
     "text": [
      "<>:2: SyntaxWarning: invalid escape sequence '\\G'\n",
      "<>:10: SyntaxWarning: invalid escape sequence '\\G'\n",
      "<>:2: SyntaxWarning: invalid escape sequence '\\G'\n",
      "<>:10: SyntaxWarning: invalid escape sequence '\\G'\n",
      "C:\\Users\\jatin\\AppData\\Local\\Temp\\ipykernel_18332\\3406488454.py:2: SyntaxWarning: invalid escape sequence '\\G'\n",
      "  df = pd.read_csv('D:\\Github repos\\Final-year-project\\Csv\\F0M.csv')\n",
      "C:\\Users\\jatin\\AppData\\Local\\Temp\\ipykernel_18332\\3406488454.py:10: SyntaxWarning: invalid escape sequence '\\G'\n",
      "  df.to_csv('D:\\Github repos\\Final-year-project\\Csv\\F0M.csv', index=False)\n"
     ]
    }
   ],
   "source": [
    "\n",
    "\n",
    "# Step 1: Load the CSV file into a DataFrame\n",
    "df = pd.read_csv('D:\\Github repos\\Final-year-project\\Csv\\F0M.csv')\n",
    "\n",
    "# Step 2: Create a new column with the value 'A'\n",
    "new_column = np.array(['F0M'] * len(df))\n",
    "\n",
    "# Step 3: Insert the new column at index 1 (second position)\n",
    "df.insert(14, 'Type', new_column)\n",
    "# Step 4: Save the updated DataFrame back to a new CSV file\n",
    "df.to_csv('D:\\Github repos\\Final-year-project\\Csv\\F0M.csv', index=False)"
   ]
  },
  {
   "cell_type": "code",
   "execution_count": 11,
   "metadata": {},
   "outputs": [
    {
     "name": "stderr",
     "output_type": "stream",
     "text": [
      "<>:1: SyntaxWarning: invalid escape sequence '\\G'\n",
      "<>:9: SyntaxWarning: invalid escape sequence '\\G'\n",
      "<>:1: SyntaxWarning: invalid escape sequence '\\G'\n",
      "<>:9: SyntaxWarning: invalid escape sequence '\\G'\n",
      "C:\\Users\\jatin\\AppData\\Local\\Temp\\ipykernel_18332\\2573661371.py:1: SyntaxWarning: invalid escape sequence '\\G'\n",
      "  df = pd.read_csv('D:\\Github repos\\Final-year-project\\Csv\\F1L.csv')\n",
      "C:\\Users\\jatin\\AppData\\Local\\Temp\\ipykernel_18332\\2573661371.py:9: SyntaxWarning: invalid escape sequence '\\G'\n",
      "  df.to_csv('D:\\Github repos\\Final-year-project\\Csv\\F1L.csv', index=False)\n"
     ]
    }
   ],
   "source": [
    "df = pd.read_csv('D:\\Github repos\\Final-year-project\\Csv\\F1L.csv')\n",
    "\n",
    "# Step 2: Create a new column with the value 'A'\n",
    "new_column = np.array(['F1L'] * len(df))\n",
    "\n",
    "# Step 3: Insert the new column at index 1 (second position)\n",
    "df.insert(14, 'Type', new_column)\n",
    "# Step 4: Save the updated DataFrame back to a new CSV file\n",
    "df.to_csv('D:\\Github repos\\Final-year-project\\Csv\\F1L.csv', index=False)"
   ]
  },
  {
   "cell_type": "code",
   "execution_count": 12,
   "metadata": {},
   "outputs": [
    {
     "name": "stderr",
     "output_type": "stream",
     "text": [
      "<>:1: SyntaxWarning: invalid escape sequence '\\G'\n",
      "<>:9: SyntaxWarning: invalid escape sequence '\\G'\n",
      "<>:1: SyntaxWarning: invalid escape sequence '\\G'\n",
      "<>:9: SyntaxWarning: invalid escape sequence '\\G'\n",
      "C:\\Users\\jatin\\AppData\\Local\\Temp\\ipykernel_18332\\1798810285.py:1: SyntaxWarning: invalid escape sequence '\\G'\n",
      "  df = pd.read_csv('D:\\Github repos\\Final-year-project\\Csv\\F1M.csv')\n",
      "C:\\Users\\jatin\\AppData\\Local\\Temp\\ipykernel_18332\\1798810285.py:9: SyntaxWarning: invalid escape sequence '\\G'\n",
      "  df.to_csv('D:\\Github repos\\Final-year-project\\Csv\\F1M.csv', index=False)\n"
     ]
    }
   ],
   "source": [
    "df = pd.read_csv('D:\\Github repos\\Final-year-project\\Csv\\F1M.csv')\n",
    "\n",
    "# Step 2: Create a new column with the value 'A'\n",
    "new_column = np.array(['F1M'] * len(df))\n",
    "\n",
    "# Step 3: Insert the new column at index 1 (second position)\n",
    "df.insert(14, 'Type', new_column)\n",
    "# Step 4: Save the updated DataFrame back to a new CSV file\n",
    "df.to_csv('D:\\Github repos\\Final-year-project\\Csv\\F1M.csv', index=False)"
   ]
  },
  {
   "cell_type": "code",
   "execution_count": 13,
   "metadata": {},
   "outputs": [
    {
     "name": "stderr",
     "output_type": "stream",
     "text": [
      "<>:2: SyntaxWarning: invalid escape sequence '\\G'\n",
      "<>:11: SyntaxWarning: invalid escape sequence '\\G'\n",
      "<>:2: SyntaxWarning: invalid escape sequence '\\G'\n",
      "<>:11: SyntaxWarning: invalid escape sequence '\\G'\n",
      "C:\\Users\\jatin\\AppData\\Local\\Temp\\ipykernel_18332\\2561049646.py:2: SyntaxWarning: invalid escape sequence '\\G'\n",
      "  df = pd.read_csv('D:\\Github repos\\Final-year-project\\\\Csv\\\\F2L.csv')\n",
      "C:\\Users\\jatin\\AppData\\Local\\Temp\\ipykernel_18332\\2561049646.py:11: SyntaxWarning: invalid escape sequence '\\G'\n",
      "  df.to_csv('D:\\Github repos\\Final-year-project\\\\Csv\\\\F2L.csv', index=False)\n"
     ]
    }
   ],
   "source": [
    "# Load the CSV file into a DataFrame\n",
    "df = pd.read_csv('D:\\Github repos\\Final-year-project\\\\Csv\\\\F2L.csv')\n",
    "\n",
    "# Create a new column with the value 'F2L'\n",
    "new_column = np.array(['F2L'] * len(df))\n",
    "\n",
    "# Insert the new column at index 14 (15th position)\n",
    "df.insert(14, 'Type', new_column)\n",
    "\n",
    "# Save the updated DataFrame back to a new CSV file\n",
    "df.to_csv('D:\\Github repos\\Final-year-project\\\\Csv\\\\F2L.csv', index=False)"
   ]
  },
  {
   "cell_type": "code",
   "execution_count": 14,
   "metadata": {},
   "outputs": [
    {
     "name": "stderr",
     "output_type": "stream",
     "text": [
      "<>:1: SyntaxWarning: invalid escape sequence '\\G'\n",
      "<>:10: SyntaxWarning: invalid escape sequence '\\G'\n",
      "<>:1: SyntaxWarning: invalid escape sequence '\\G'\n",
      "<>:10: SyntaxWarning: invalid escape sequence '\\G'\n",
      "C:\\Users\\jatin\\AppData\\Local\\Temp\\ipykernel_18332\\2699610577.py:1: SyntaxWarning: invalid escape sequence '\\G'\n",
      "  df = pd.read_csv('D:\\Github repos\\Final-year-project\\\\Csv\\\\F3M.csv')\n",
      "C:\\Users\\jatin\\AppData\\Local\\Temp\\ipykernel_18332\\2699610577.py:10: SyntaxWarning: invalid escape sequence '\\G'\n",
      "  df.to_csv('D:\\Github repos\\Final-year-project\\\\Csv\\\\F3M.csv', index=False)\n"
     ]
    }
   ],
   "source": [
    "df = pd.read_csv('D:\\Github repos\\Final-year-project\\\\Csv\\\\F3M.csv')\n",
    "\n",
    "# Create a new column with the value 'F3M'\n",
    "new_column = np.array(['F3M'] * len(df))\n",
    "\n",
    "# Insert the new column at index 14 (15th position)\n",
    "df.insert(14, 'Type', new_column)\n",
    "\n",
    "# Save the updated DataFrame back to a new CSV file\n",
    "df.to_csv('D:\\Github repos\\Final-year-project\\\\Csv\\\\F3M.csv', index=False)"
   ]
  },
  {
   "cell_type": "code",
   "execution_count": 15,
   "metadata": {},
   "outputs": [
    {
     "name": "stderr",
     "output_type": "stream",
     "text": [
      "<>:1: SyntaxWarning: invalid escape sequence '\\G'\n",
      "<>:10: SyntaxWarning: invalid escape sequence '\\G'\n",
      "<>:1: SyntaxWarning: invalid escape sequence '\\G'\n",
      "<>:10: SyntaxWarning: invalid escape sequence '\\G'\n",
      "C:\\Users\\jatin\\AppData\\Local\\Temp\\ipykernel_18332\\3364092935.py:1: SyntaxWarning: invalid escape sequence '\\G'\n",
      "  df = pd.read_csv('D:\\Github repos\\\\Final-year-project\\\\Csv\\\\F2M.csv')\n",
      "C:\\Users\\jatin\\AppData\\Local\\Temp\\ipykernel_18332\\3364092935.py:10: SyntaxWarning: invalid escape sequence '\\G'\n",
      "  df.to_csv('D:\\Github repos\\\\Final-year-project\\\\Csv\\\\F2M.csv', index=False)\n"
     ]
    }
   ],
   "source": [
    "df = pd.read_csv('D:\\Github repos\\\\Final-year-project\\\\Csv\\\\F2M.csv')\n",
    "\n",
    "# Create a new column with the value 'F2M'\n",
    "new_column = np.array(['F2M'] * len(df))\n",
    "\n",
    "# Insert the new column at index 14 (15th position)\n",
    "df.insert(14, 'Type', new_column)\n",
    "\n",
    "# Save the updated DataFrame back to a new CSV file\n",
    "df.to_csv('D:\\Github repos\\\\Final-year-project\\\\Csv\\\\F2M.csv', index=False)"
   ]
  },
  {
   "cell_type": "code",
   "execution_count": 16,
   "metadata": {},
   "outputs": [
    {
     "name": "stderr",
     "output_type": "stream",
     "text": [
      "<>:2: SyntaxWarning: invalid escape sequence '\\G'\n",
      "<>:11: SyntaxWarning: invalid escape sequence '\\G'\n",
      "<>:2: SyntaxWarning: invalid escape sequence '\\G'\n",
      "<>:11: SyntaxWarning: invalid escape sequence '\\G'\n",
      "C:\\Users\\jatin\\AppData\\Local\\Temp\\ipykernel_18332\\3065619454.py:2: SyntaxWarning: invalid escape sequence '\\G'\n",
      "  df = pd.read_csv('D:\\Github repos\\\\Final-year-project\\\\Csv\\\\F3L.csv')\n",
      "C:\\Users\\jatin\\AppData\\Local\\Temp\\ipykernel_18332\\3065619454.py:11: SyntaxWarning: invalid escape sequence '\\G'\n",
      "  df.to_csv('D:\\Github repos\\\\Final-year-project\\\\Csv\\\\F3L.csv', index=False)\n"
     ]
    }
   ],
   "source": [
    "# Load the CSV file into a DataFrame\n",
    "df = pd.read_csv('D:\\Github repos\\\\Final-year-project\\\\Csv\\\\F3L.csv')\n",
    "\n",
    "# Create a new column with the value 'F3L'\n",
    "new_column = np.array(['F3L'] * len(df))\n",
    "\n",
    "# Insert the new column at index 14 (15th position)\n",
    "df.insert(14, 'Type', new_column)\n",
    "\n",
    "# Save the updated DataFrame back to a new CSV file\n",
    "df.to_csv('D:\\Github repos\\\\Final-year-project\\\\Csv\\\\F3L.csv', index=False)"
   ]
  },
  {
   "cell_type": "code",
   "execution_count": 17,
   "metadata": {},
   "outputs": [
    {
     "name": "stderr",
     "output_type": "stream",
     "text": [
      "<>:1: SyntaxWarning: invalid escape sequence '\\G'\n",
      "<>:10: SyntaxWarning: invalid escape sequence '\\G'\n",
      "<>:1: SyntaxWarning: invalid escape sequence '\\G'\n",
      "<>:10: SyntaxWarning: invalid escape sequence '\\G'\n",
      "C:\\Users\\jatin\\AppData\\Local\\Temp\\ipykernel_18332\\3550862134.py:1: SyntaxWarning: invalid escape sequence '\\G'\n",
      "  df = pd.read_csv('D:\\Github repos\\\\Final-year-project\\\\Csv\\\\F4M.csv')\n",
      "C:\\Users\\jatin\\AppData\\Local\\Temp\\ipykernel_18332\\3550862134.py:10: SyntaxWarning: invalid escape sequence '\\G'\n",
      "  df.to_csv('D:\\Github repos\\\\Final-year-project\\\\Csv\\\\F4M.csv', index=False)\n"
     ]
    }
   ],
   "source": [
    "df = pd.read_csv('D:\\Github repos\\\\Final-year-project\\\\Csv\\\\F4M.csv')\n",
    "\n",
    "# Create a new column with the value 'F4M'\n",
    "new_column = np.array(['F4M'] * len(df))\n",
    "\n",
    "# Insert the new column at index 14 (15th position)\n",
    "df.insert(14, 'Type', new_column)\n",
    "\n",
    "# Save the updated DataFrame back to a new CSV file\n",
    "df.to_csv('D:\\Github repos\\\\Final-year-project\\\\Csv\\\\F4M.csv', index=False)"
   ]
  },
  {
   "cell_type": "code",
   "execution_count": 18,
   "metadata": {},
   "outputs": [
    {
     "name": "stderr",
     "output_type": "stream",
     "text": [
      "<>:1: SyntaxWarning: invalid escape sequence '\\G'\n",
      "<>:10: SyntaxWarning: invalid escape sequence '\\G'\n",
      "<>:1: SyntaxWarning: invalid escape sequence '\\G'\n",
      "<>:10: SyntaxWarning: invalid escape sequence '\\G'\n",
      "C:\\Users\\jatin\\AppData\\Local\\Temp\\ipykernel_18332\\770332038.py:1: SyntaxWarning: invalid escape sequence '\\G'\n",
      "  df = pd.read_csv('D:\\Github repos\\\\Final-year-project\\\\Csv\\\\F4L.csv')\n",
      "C:\\Users\\jatin\\AppData\\Local\\Temp\\ipykernel_18332\\770332038.py:10: SyntaxWarning: invalid escape sequence '\\G'\n",
      "  df.to_csv('D:\\Github repos\\\\Final-year-project\\\\Csv\\\\F4L.csv', index=False)\n"
     ]
    }
   ],
   "source": [
    "df = pd.read_csv('D:\\Github repos\\\\Final-year-project\\\\Csv\\\\F4L.csv')\n",
    "\n",
    "# Create a new column with the value 'F4L'\n",
    "new_column = np.array(['F4L'] * len(df))\n",
    "\n",
    "# Insert the new column at index 14 (15th position)\n",
    "df.insert(14, 'Type', new_column)\n",
    "\n",
    "# Save the updated DataFrame back to a new CSV file\n",
    "df.to_csv('D:\\Github repos\\\\Final-year-project\\\\Csv\\\\F4L.csv', index=False)"
   ]
  },
  {
   "cell_type": "code",
   "execution_count": 19,
   "metadata": {},
   "outputs": [
    {
     "name": "stderr",
     "output_type": "stream",
     "text": [
      "<>:1: SyntaxWarning: invalid escape sequence '\\G'\n",
      "<>:10: SyntaxWarning: invalid escape sequence '\\G'\n",
      "<>:1: SyntaxWarning: invalid escape sequence '\\G'\n",
      "<>:10: SyntaxWarning: invalid escape sequence '\\G'\n",
      "C:\\Users\\jatin\\AppData\\Local\\Temp\\ipykernel_18332\\529707629.py:1: SyntaxWarning: invalid escape sequence '\\G'\n",
      "  df = pd.read_csv('D:\\Github repos\\\\Final-year-project\\\\Csv\\\\F5M.csv')\n",
      "C:\\Users\\jatin\\AppData\\Local\\Temp\\ipykernel_18332\\529707629.py:10: SyntaxWarning: invalid escape sequence '\\G'\n",
      "  df.to_csv('D:\\Github repos\\\\Final-year-project\\\\Csv\\\\F5M.csv', index=False)\n"
     ]
    }
   ],
   "source": [
    "df = pd.read_csv('D:\\Github repos\\\\Final-year-project\\\\Csv\\\\F5M.csv')\n",
    "\n",
    "# Create a new column with the value 'F5M'\n",
    "new_column = np.array(['F5M'] * len(df))\n",
    "\n",
    "# Insert the new column at index 14 (15th position)\n",
    "df.insert(14, 'Type', new_column)\n",
    "\n",
    "# Save the updated DataFrame back to a new CSV file\n",
    "df.to_csv('D:\\Github repos\\\\Final-year-project\\\\Csv\\\\F5M.csv', index=False)"
   ]
  },
  {
   "cell_type": "code",
   "execution_count": 20,
   "metadata": {},
   "outputs": [
    {
     "name": "stderr",
     "output_type": "stream",
     "text": [
      "<>:2: SyntaxWarning: invalid escape sequence '\\G'\n",
      "<>:11: SyntaxWarning: invalid escape sequence '\\G'\n",
      "<>:2: SyntaxWarning: invalid escape sequence '\\G'\n",
      "<>:11: SyntaxWarning: invalid escape sequence '\\G'\n",
      "C:\\Users\\jatin\\AppData\\Local\\Temp\\ipykernel_18332\\1253625929.py:2: SyntaxWarning: invalid escape sequence '\\G'\n",
      "  df = pd.read_csv('D:\\Github repos\\\\Final-year-project\\\\Csv\\\\F5L.csv')\n",
      "C:\\Users\\jatin\\AppData\\Local\\Temp\\ipykernel_18332\\1253625929.py:11: SyntaxWarning: invalid escape sequence '\\G'\n",
      "  df.to_csv('D:\\Github repos\\\\Final-year-project\\\\Csv\\\\F5L.csv', index=False)\n"
     ]
    }
   ],
   "source": [
    "# Load the CSV file into a DataFrame\n",
    "df = pd.read_csv('D:\\Github repos\\\\Final-year-project\\\\Csv\\\\F5L.csv')\n",
    "\n",
    "# Create a new column with the value 'F5L'\n",
    "new_column = np.array(['F5L'] * len(df))\n",
    "\n",
    "# Insert the new column at index 14 (15th position)\n",
    "df.insert(14, 'Type', new_column)\n",
    "\n",
    "# Save the updated DataFrame back to a new CSV file\n",
    "df.to_csv('D:\\Github repos\\\\Final-year-project\\\\Csv\\\\F5L.csv', index=False)"
   ]
  },
  {
   "cell_type": "code",
   "execution_count": 21,
   "metadata": {},
   "outputs": [
    {
     "name": "stderr",
     "output_type": "stream",
     "text": [
      "<>:2: SyntaxWarning: invalid escape sequence '\\G'\n",
      "<>:11: SyntaxWarning: invalid escape sequence '\\G'\n",
      "<>:2: SyntaxWarning: invalid escape sequence '\\G'\n",
      "<>:11: SyntaxWarning: invalid escape sequence '\\G'\n",
      "C:\\Users\\jatin\\AppData\\Local\\Temp\\ipykernel_18332\\632073799.py:2: SyntaxWarning: invalid escape sequence '\\G'\n",
      "  df = pd.read_csv('D:\\Github repos\\\\Final-year-project\\\\Csv\\\\F6M.csv')\n",
      "C:\\Users\\jatin\\AppData\\Local\\Temp\\ipykernel_18332\\632073799.py:11: SyntaxWarning: invalid escape sequence '\\G'\n",
      "  df.to_csv('D:\\Github repos\\\\Final-year-project\\\\Csv\\\\F6M.csv', index=False)\n"
     ]
    }
   ],
   "source": [
    "# Load the CSV file into a DataFrame\n",
    "df = pd.read_csv('D:\\Github repos\\\\Final-year-project\\\\Csv\\\\F6M.csv')\n",
    "\n",
    "# Create a new column with the value 'F6M'\n",
    "new_column = np.array(['F6M'] * len(df))\n",
    "\n",
    "# Insert the new column at index 14 (15th position)\n",
    "df.insert(14, 'Type', new_column)\n",
    "\n",
    "# Save the updated DataFrame back to a new CSV file\n",
    "df.to_csv('D:\\Github repos\\\\Final-year-project\\\\Csv\\\\F6M.csv', index=False)"
   ]
  },
  {
   "cell_type": "code",
   "execution_count": 22,
   "metadata": {},
   "outputs": [
    {
     "name": "stderr",
     "output_type": "stream",
     "text": [
      "<>:1: SyntaxWarning: invalid escape sequence '\\G'\n",
      "<>:10: SyntaxWarning: invalid escape sequence '\\G'\n",
      "<>:1: SyntaxWarning: invalid escape sequence '\\G'\n",
      "<>:10: SyntaxWarning: invalid escape sequence '\\G'\n",
      "C:\\Users\\jatin\\AppData\\Local\\Temp\\ipykernel_18332\\3824519648.py:1: SyntaxWarning: invalid escape sequence '\\G'\n",
      "  df = pd.read_csv('D:\\Github repos\\\\Final-year-project\\\\Csv\\\\F6L.csv')\n",
      "C:\\Users\\jatin\\AppData\\Local\\Temp\\ipykernel_18332\\3824519648.py:10: SyntaxWarning: invalid escape sequence '\\G'\n",
      "  df.to_csv('D:\\Github repos\\\\Final-year-project\\\\Csv\\\\F6L.csv', index=False)\n"
     ]
    }
   ],
   "source": [
    "df = pd.read_csv('D:\\Github repos\\\\Final-year-project\\\\Csv\\\\F6L.csv')\n",
    "\n",
    "# Create a new column with the value 'F6L'\n",
    "new_column = np.array(['F6L'] * len(df))\n",
    "\n",
    "# Insert the new column at index 14 (15th position)\n",
    "df.insert(14, 'Type', new_column)\n",
    "\n",
    "# Save the updated DataFrame back to a new CSV file\n",
    "df.to_csv('D:\\Github repos\\\\Final-year-project\\\\Csv\\\\F6L.csv', index=False)"
   ]
  },
  {
   "cell_type": "code",
   "execution_count": 23,
   "metadata": {},
   "outputs": [
    {
     "name": "stderr",
     "output_type": "stream",
     "text": [
      "<>:2: SyntaxWarning: invalid escape sequence '\\G'\n",
      "<>:11: SyntaxWarning: invalid escape sequence '\\G'\n",
      "<>:2: SyntaxWarning: invalid escape sequence '\\G'\n",
      "<>:11: SyntaxWarning: invalid escape sequence '\\G'\n",
      "C:\\Users\\jatin\\AppData\\Local\\Temp\\ipykernel_18332\\2317978282.py:2: SyntaxWarning: invalid escape sequence '\\G'\n",
      "  df = pd.read_csv('D:\\Github repos\\\\Final-year-project\\\\Csv\\\\F7M.csv')\n",
      "C:\\Users\\jatin\\AppData\\Local\\Temp\\ipykernel_18332\\2317978282.py:11: SyntaxWarning: invalid escape sequence '\\G'\n",
      "  df.to_csv('D:\\Github repos\\\\Final-year-project\\\\Csv\\\\F7M.csv', index=False)\n"
     ]
    }
   ],
   "source": [
    "# Load the CSV file into a DataFrame\n",
    "df = pd.read_csv('D:\\Github repos\\\\Final-year-project\\\\Csv\\\\F7M.csv')\n",
    "\n",
    "# Create a new column with the value 'F7M'\n",
    "new_column = np.array(['F7M'] * len(df))\n",
    "\n",
    "# Insert the new column at index 14 (15th position)\n",
    "df.insert(14, 'Type', new_column)\n",
    "\n",
    "# Save the updated DataFrame back to a new CSV file\n",
    "df.to_csv('D:\\Github repos\\\\Final-year-project\\\\Csv\\\\F7M.csv', index=False)"
   ]
  },
  {
   "cell_type": "code",
   "execution_count": 24,
   "metadata": {},
   "outputs": [
    {
     "name": "stderr",
     "output_type": "stream",
     "text": [
      "<>:1: SyntaxWarning: invalid escape sequence '\\G'\n",
      "<>:10: SyntaxWarning: invalid escape sequence '\\G'\n",
      "<>:1: SyntaxWarning: invalid escape sequence '\\G'\n",
      "<>:10: SyntaxWarning: invalid escape sequence '\\G'\n",
      "C:\\Users\\jatin\\AppData\\Local\\Temp\\ipykernel_18332\\4041701607.py:1: SyntaxWarning: invalid escape sequence '\\G'\n",
      "  df = pd.read_csv('D:\\Github repos\\\\Final-year-project\\\\Csv\\\\F7L.csv')\n",
      "C:\\Users\\jatin\\AppData\\Local\\Temp\\ipykernel_18332\\4041701607.py:10: SyntaxWarning: invalid escape sequence '\\G'\n",
      "  df.to_csv('D:\\Github repos\\\\Final-year-project\\\\Csv\\\\F7L.csv', index=False)\n"
     ]
    }
   ],
   "source": [
    "df = pd.read_csv('D:\\Github repos\\\\Final-year-project\\\\Csv\\\\F7L.csv')\n",
    "\n",
    "# Create a new column with the value 'F7L'\n",
    "new_column = np.array(['F7L'] * len(df))\n",
    "\n",
    "# Insert the new column at index 14 (15th position)\n",
    "df.insert(14, 'Type', new_column)\n",
    "\n",
    "# Save the updated DataFrame back to a new CSV file\n",
    "df.to_csv('D:\\Github repos\\\\Final-year-project\\\\Csv\\\\F7L.csv', index=False)"
   ]
  },
  {
   "cell_type": "code",
   "execution_count": 25,
   "metadata": {},
   "outputs": [
    {
     "name": "stderr",
     "output_type": "stream",
     "text": [
      "<>:2: SyntaxWarning: invalid escape sequence '\\G'\n",
      "<>:4: SyntaxWarning: invalid escape sequence '\\G'\n",
      "<>:2: SyntaxWarning: invalid escape sequence '\\G'\n",
      "<>:4: SyntaxWarning: invalid escape sequence '\\G'\n",
      "C:\\Users\\jatin\\AppData\\Local\\Temp\\ipykernel_18332\\1373072278.py:2: SyntaxWarning: invalid escape sequence '\\G'\n",
      "  df = pd.read_csv(f\"D:\\Github repos\\\\Final-year-project\\\\Csv\\\\F{str(i)}L.csv\")\n",
      "C:\\Users\\jatin\\AppData\\Local\\Temp\\ipykernel_18332\\1373072278.py:4: SyntaxWarning: invalid escape sequence '\\G'\n",
      "  df = pd.read_csv(f\"D:\\Github repos\\\\Final-year-project\\\\Csv\\\\F{str(i)}M.csv\")\n"
     ]
    }
   ],
   "source": [
    "for i in range(8):\n",
    "    df = pd.read_csv(f\"D:\\Github repos\\\\Final-year-project\\\\Csv\\\\F{str(i)}L.csv\")\n",
    "    df.apply(lambda x:sum(x.isnull()), axis=0)\n",
    "    df = pd.read_csv(f\"D:\\Github repos\\\\Final-year-project\\\\Csv\\\\F{str(i)}M.csv\")\n",
    "    df.apply(lambda x:sum(x.isnull()), axis=0)\n",
    "\n",
    "\n"
   ]
  },
  {
   "cell_type": "code",
   "execution_count": 26,
   "metadata": {},
   "outputs": [
    {
     "data": {
      "text/html": [
       "<div>\n",
       "<style scoped>\n",
       "    .dataframe tbody tr th:only-of-type {\n",
       "        vertical-align: middle;\n",
       "    }\n",
       "\n",
       "    .dataframe tbody tr th {\n",
       "        vertical-align: top;\n",
       "    }\n",
       "\n",
       "    .dataframe thead th {\n",
       "        text-align: right;\n",
       "    }\n",
       "</style>\n",
       "<table border=\"1\" class=\"dataframe\">\n",
       "  <thead>\n",
       "    <tr style=\"text-align: right;\">\n",
       "      <th></th>\n",
       "      <th>Time</th>\n",
       "      <th>Ipv</th>\n",
       "      <th>Vpv</th>\n",
       "      <th>Vdc</th>\n",
       "      <th>ia</th>\n",
       "      <th>ib</th>\n",
       "      <th>ic</th>\n",
       "      <th>va</th>\n",
       "      <th>vb</th>\n",
       "      <th>vc</th>\n",
       "      <th>Iabc</th>\n",
       "      <th>If</th>\n",
       "      <th>Vabc</th>\n",
       "      <th>Vf</th>\n",
       "    </tr>\n",
       "  </thead>\n",
       "  <tbody>\n",
       "    <tr>\n",
       "      <th>0</th>\n",
       "      <td>0.000028</td>\n",
       "      <td>1.572327</td>\n",
       "      <td>101.348877</td>\n",
       "      <td>144.140625</td>\n",
       "      <td>-0.135133</td>\n",
       "      <td>0.490112</td>\n",
       "      <td>-0.354985</td>\n",
       "      <td>41.744537</td>\n",
       "      <td>-149.872894</td>\n",
       "      <td>109.064585</td>\n",
       "      <td>1.0</td>\n",
       "      <td>50.0</td>\n",
       "      <td>1.0</td>\n",
       "      <td>50.0</td>\n",
       "    </tr>\n",
       "    <tr>\n",
       "      <th>1</th>\n",
       "      <td>0.000128</td>\n",
       "      <td>1.503265</td>\n",
       "      <td>101.458740</td>\n",
       "      <td>143.554688</td>\n",
       "      <td>-0.108277</td>\n",
       "      <td>0.510254</td>\n",
       "      <td>-0.388555</td>\n",
       "      <td>46.831512</td>\n",
       "      <td>-150.716705</td>\n",
       "      <td>105.829976</td>\n",
       "      <td>1.0</td>\n",
       "      <td>50.0</td>\n",
       "      <td>1.0</td>\n",
       "      <td>50.0</td>\n",
       "    </tr>\n",
       "    <tr>\n",
       "      <th>2</th>\n",
       "      <td>0.000228</td>\n",
       "      <td>1.492859</td>\n",
       "      <td>101.574707</td>\n",
       "      <td>143.554688</td>\n",
       "      <td>-0.168702</td>\n",
       "      <td>0.496826</td>\n",
       "      <td>-0.334844</td>\n",
       "      <td>51.074677</td>\n",
       "      <td>-152.018585</td>\n",
       "      <td>102.543132</td>\n",
       "      <td>1.0</td>\n",
       "      <td>50.0</td>\n",
       "      <td>1.0</td>\n",
       "      <td>50.0</td>\n",
       "    </tr>\n",
       "    <tr>\n",
       "      <th>3</th>\n",
       "      <td>0.000328</td>\n",
       "      <td>1.558136</td>\n",
       "      <td>101.312256</td>\n",
       "      <td>143.261719</td>\n",
       "      <td>-0.135133</td>\n",
       "      <td>0.510254</td>\n",
       "      <td>-0.361699</td>\n",
       "      <td>55.848236</td>\n",
       "      <td>-152.585144</td>\n",
       "      <td>98.143260</td>\n",
       "      <td>1.0</td>\n",
       "      <td>50.0</td>\n",
       "      <td>1.0</td>\n",
       "      <td>50.0</td>\n",
       "    </tr>\n",
       "    <tr>\n",
       "      <th>4</th>\n",
       "      <td>0.000428</td>\n",
       "      <td>1.631927</td>\n",
       "      <td>101.141357</td>\n",
       "      <td>143.847656</td>\n",
       "      <td>-0.202271</td>\n",
       "      <td>0.503540</td>\n",
       "      <td>-0.321416</td>\n",
       "      <td>60.055237</td>\n",
       "      <td>-152.609253</td>\n",
       "      <td>94.261729</td>\n",
       "      <td>1.0</td>\n",
       "      <td>50.0</td>\n",
       "      <td>1.0</td>\n",
       "      <td>50.0</td>\n",
       "    </tr>\n",
       "  </tbody>\n",
       "</table>\n",
       "</div>"
      ],
      "text/plain": [
       "       Time       Ipv         Vpv         Vdc        ia        ib        ic  \\\n",
       "0  0.000028  1.572327  101.348877  144.140625 -0.135133  0.490112 -0.354985   \n",
       "1  0.000128  1.503265  101.458740  143.554688 -0.108277  0.510254 -0.388555   \n",
       "2  0.000228  1.492859  101.574707  143.554688 -0.168702  0.496826 -0.334844   \n",
       "3  0.000328  1.558136  101.312256  143.261719 -0.135133  0.510254 -0.361699   \n",
       "4  0.000428  1.631927  101.141357  143.847656 -0.202271  0.503540 -0.321416   \n",
       "\n",
       "          va          vb          vc  Iabc    If  Vabc    Vf  \n",
       "0  41.744537 -149.872894  109.064585   1.0  50.0   1.0  50.0  \n",
       "1  46.831512 -150.716705  105.829976   1.0  50.0   1.0  50.0  \n",
       "2  51.074677 -152.018585  102.543132   1.0  50.0   1.0  50.0  \n",
       "3  55.848236 -152.585144   98.143260   1.0  50.0   1.0  50.0  \n",
       "4  60.055237 -152.609253   94.261729   1.0  50.0   1.0  50.0  "
      ]
     },
     "execution_count": 26,
     "metadata": {},
     "output_type": "execute_result"
    }
   ],
   "source": [
    "x = data.iloc[:,:14]\n",
    "x.head()"
   ]
  },
  {
   "cell_type": "code",
   "execution_count": 27,
   "metadata": {},
   "outputs": [
    {
     "ename": "KeyError",
     "evalue": "\"['Type'] not in index\"",
     "output_type": "error",
     "traceback": [
      "\u001b[1;31m---------------------------------------------------------------------------\u001b[0m",
      "\u001b[1;31mKeyError\u001b[0m                                  Traceback (most recent call last)",
      "Cell \u001b[1;32mIn[27], line 3\u001b[0m\n\u001b[0;32m      1\u001b[0m \u001b[38;5;28;01mimport\u001b[39;00m \u001b[38;5;21;01mmatplotlib\u001b[39;00m\u001b[38;5;21;01m.\u001b[39;00m\u001b[38;5;21;01mpyplot\u001b[39;00m \u001b[38;5;28;01mas\u001b[39;00m \u001b[38;5;21;01mplt\u001b[39;00m\n\u001b[0;32m      2\u001b[0m get_ipython()\u001b[38;5;241m.\u001b[39mrun_line_magic(\u001b[38;5;124m'\u001b[39m\u001b[38;5;124mmatplotlib\u001b[39m\u001b[38;5;124m'\u001b[39m, \u001b[38;5;124m'\u001b[39m\u001b[38;5;124minline\u001b[39m\u001b[38;5;124m'\u001b[39m)\n\u001b[1;32m----> 3\u001b[0m c \u001b[38;5;241m=\u001b[39m \u001b[43mdata\u001b[49m\u001b[43m[\u001b[49m\u001b[43m[\u001b[49m\u001b[38;5;124;43m'\u001b[39;49m\u001b[38;5;124;43mTime\u001b[39;49m\u001b[38;5;124;43m'\u001b[39;49m\u001b[43m,\u001b[49m\u001b[38;5;124;43m'\u001b[39;49m\u001b[38;5;124;43mIpv\u001b[39;49m\u001b[38;5;124;43m'\u001b[39;49m\u001b[43m,\u001b[49m\u001b[38;5;124;43m'\u001b[39;49m\u001b[38;5;124;43mVpv\u001b[39;49m\u001b[38;5;124;43m'\u001b[39;49m\u001b[43m,\u001b[49m\u001b[38;5;124;43m'\u001b[39;49m\u001b[38;5;124;43mVdc\u001b[39;49m\u001b[38;5;124;43m'\u001b[39;49m\u001b[43m,\u001b[49m\u001b[38;5;124;43m'\u001b[39;49m\u001b[38;5;124;43mia\u001b[39;49m\u001b[38;5;124;43m'\u001b[39;49m\u001b[43m,\u001b[49m\u001b[38;5;124;43m'\u001b[39;49m\u001b[38;5;124;43mib\u001b[39;49m\u001b[38;5;124;43m'\u001b[39;49m\u001b[43m,\u001b[49m\u001b[38;5;124;43m'\u001b[39;49m\u001b[38;5;124;43mic\u001b[39;49m\u001b[38;5;124;43m'\u001b[39;49m\u001b[43m,\u001b[49m\u001b[38;5;124;43m'\u001b[39;49m\u001b[38;5;124;43mva\u001b[39;49m\u001b[38;5;124;43m'\u001b[39;49m\u001b[43m,\u001b[49m\u001b[38;5;124;43m'\u001b[39;49m\u001b[38;5;124;43mvb\u001b[39;49m\u001b[38;5;124;43m'\u001b[39;49m\u001b[43m,\u001b[49m\u001b[38;5;124;43m'\u001b[39;49m\u001b[38;5;124;43mvc\u001b[39;49m\u001b[38;5;124;43m'\u001b[39;49m\u001b[43m,\u001b[49m\u001b[38;5;124;43m'\u001b[39;49m\u001b[38;5;124;43mIabc\u001b[39;49m\u001b[38;5;124;43m'\u001b[39;49m\u001b[43m,\u001b[49m\u001b[38;5;124;43m'\u001b[39;49m\u001b[38;5;124;43mIf\u001b[39;49m\u001b[38;5;124;43m'\u001b[39;49m\u001b[43m,\u001b[49m\u001b[38;5;124;43m'\u001b[39;49m\u001b[38;5;124;43mVabc\u001b[39;49m\u001b[38;5;124;43m'\u001b[39;49m\u001b[43m,\u001b[49m\u001b[38;5;124;43m'\u001b[39;49m\u001b[38;5;124;43mVf\u001b[39;49m\u001b[38;5;124;43m'\u001b[39;49m\u001b[43m,\u001b[49m\u001b[38;5;124;43m'\u001b[39;49m\u001b[38;5;124;43mType\u001b[39;49m\u001b[38;5;124;43m'\u001b[39;49m\u001b[43m]\u001b[49m\u001b[43m]\u001b[49m\n\u001b[0;32m      4\u001b[0m c\u001b[38;5;241m.\u001b[39mhist()\n\u001b[0;32m      5\u001b[0m plt\u001b[38;5;241m.\u001b[39mshow()\n",
      "File \u001b[1;32mc:\\Users\\jatin\\AppData\\Local\\Programs\\Python\\Python312\\Lib\\site-packages\\pandas\\core\\frame.py:4108\u001b[0m, in \u001b[0;36mDataFrame.__getitem__\u001b[1;34m(self, key)\u001b[0m\n\u001b[0;32m   4106\u001b[0m     \u001b[38;5;28;01mif\u001b[39;00m is_iterator(key):\n\u001b[0;32m   4107\u001b[0m         key \u001b[38;5;241m=\u001b[39m \u001b[38;5;28mlist\u001b[39m(key)\n\u001b[1;32m-> 4108\u001b[0m     indexer \u001b[38;5;241m=\u001b[39m \u001b[38;5;28;43mself\u001b[39;49m\u001b[38;5;241;43m.\u001b[39;49m\u001b[43mcolumns\u001b[49m\u001b[38;5;241;43m.\u001b[39;49m\u001b[43m_get_indexer_strict\u001b[49m\u001b[43m(\u001b[49m\u001b[43mkey\u001b[49m\u001b[43m,\u001b[49m\u001b[43m \u001b[49m\u001b[38;5;124;43m\"\u001b[39;49m\u001b[38;5;124;43mcolumns\u001b[39;49m\u001b[38;5;124;43m\"\u001b[39;49m\u001b[43m)\u001b[49m[\u001b[38;5;241m1\u001b[39m]\n\u001b[0;32m   4110\u001b[0m \u001b[38;5;66;03m# take() does not accept boolean indexers\u001b[39;00m\n\u001b[0;32m   4111\u001b[0m \u001b[38;5;28;01mif\u001b[39;00m \u001b[38;5;28mgetattr\u001b[39m(indexer, \u001b[38;5;124m\"\u001b[39m\u001b[38;5;124mdtype\u001b[39m\u001b[38;5;124m\"\u001b[39m, \u001b[38;5;28;01mNone\u001b[39;00m) \u001b[38;5;241m==\u001b[39m \u001b[38;5;28mbool\u001b[39m:\n",
      "File \u001b[1;32mc:\\Users\\jatin\\AppData\\Local\\Programs\\Python\\Python312\\Lib\\site-packages\\pandas\\core\\indexes\\base.py:6200\u001b[0m, in \u001b[0;36mIndex._get_indexer_strict\u001b[1;34m(self, key, axis_name)\u001b[0m\n\u001b[0;32m   6197\u001b[0m \u001b[38;5;28;01melse\u001b[39;00m:\n\u001b[0;32m   6198\u001b[0m     keyarr, indexer, new_indexer \u001b[38;5;241m=\u001b[39m \u001b[38;5;28mself\u001b[39m\u001b[38;5;241m.\u001b[39m_reindex_non_unique(keyarr)\n\u001b[1;32m-> 6200\u001b[0m \u001b[38;5;28;43mself\u001b[39;49m\u001b[38;5;241;43m.\u001b[39;49m\u001b[43m_raise_if_missing\u001b[49m\u001b[43m(\u001b[49m\u001b[43mkeyarr\u001b[49m\u001b[43m,\u001b[49m\u001b[43m \u001b[49m\u001b[43mindexer\u001b[49m\u001b[43m,\u001b[49m\u001b[43m \u001b[49m\u001b[43maxis_name\u001b[49m\u001b[43m)\u001b[49m\n\u001b[0;32m   6202\u001b[0m keyarr \u001b[38;5;241m=\u001b[39m \u001b[38;5;28mself\u001b[39m\u001b[38;5;241m.\u001b[39mtake(indexer)\n\u001b[0;32m   6203\u001b[0m \u001b[38;5;28;01mif\u001b[39;00m \u001b[38;5;28misinstance\u001b[39m(key, Index):\n\u001b[0;32m   6204\u001b[0m     \u001b[38;5;66;03m# GH 42790 - Preserve name from an Index\u001b[39;00m\n",
      "File \u001b[1;32mc:\\Users\\jatin\\AppData\\Local\\Programs\\Python\\Python312\\Lib\\site-packages\\pandas\\core\\indexes\\base.py:6252\u001b[0m, in \u001b[0;36mIndex._raise_if_missing\u001b[1;34m(self, key, indexer, axis_name)\u001b[0m\n\u001b[0;32m   6249\u001b[0m     \u001b[38;5;28;01mraise\u001b[39;00m \u001b[38;5;167;01mKeyError\u001b[39;00m(\u001b[38;5;124mf\u001b[39m\u001b[38;5;124m\"\u001b[39m\u001b[38;5;124mNone of [\u001b[39m\u001b[38;5;132;01m{\u001b[39;00mkey\u001b[38;5;132;01m}\u001b[39;00m\u001b[38;5;124m] are in the [\u001b[39m\u001b[38;5;132;01m{\u001b[39;00maxis_name\u001b[38;5;132;01m}\u001b[39;00m\u001b[38;5;124m]\u001b[39m\u001b[38;5;124m\"\u001b[39m)\n\u001b[0;32m   6251\u001b[0m not_found \u001b[38;5;241m=\u001b[39m \u001b[38;5;28mlist\u001b[39m(ensure_index(key)[missing_mask\u001b[38;5;241m.\u001b[39mnonzero()[\u001b[38;5;241m0\u001b[39m]]\u001b[38;5;241m.\u001b[39munique())\n\u001b[1;32m-> 6252\u001b[0m \u001b[38;5;28;01mraise\u001b[39;00m \u001b[38;5;167;01mKeyError\u001b[39;00m(\u001b[38;5;124mf\u001b[39m\u001b[38;5;124m\"\u001b[39m\u001b[38;5;132;01m{\u001b[39;00mnot_found\u001b[38;5;132;01m}\u001b[39;00m\u001b[38;5;124m not in index\u001b[39m\u001b[38;5;124m\"\u001b[39m)\n",
      "\u001b[1;31mKeyError\u001b[0m: \"['Type'] not in index\""
     ]
    }
   ],
   "source": [
    "import matplotlib.pyplot as plt\n",
    "%matplotlib inline\n",
    "c = data[['Time','Ipv','Vpv','Vdc','ia','ib','ic','va','vb','vc','Iabc','If','Vabc','Vf','Type']]\n",
    "c.hist()\n",
    "plt.show()"
   ]
  },
  {
   "cell_type": "code",
   "execution_count": 26,
   "metadata": {},
   "outputs": [
    {
     "data": {
      "text/plain": [
       "array([[0.00000000e+00, 6.62994167e-01, 6.83716965e-01, ...,\n",
       "        5.04509458e-01, 0.00000000e+00, 3.77488585e-01],\n",
       "       [6.95874967e-06, 6.15683733e-01, 6.99062234e-01, ...,\n",
       "        5.04509458e-01, 0.00000000e+00, 3.77488585e-01],\n",
       "       [1.39174993e-05, 6.08554763e-01, 7.15260017e-01, ...,\n",
       "        5.04509458e-01, 0.00000000e+00, 3.77488585e-01],\n",
       "       ...,\n",
       "       [9.99986083e-01, 6.00777706e-01, 6.18925831e-01, ...,\n",
       "        4.94657150e-01, 9.98650841e-01, 3.69285041e-01],\n",
       "       [9.99993041e-01, 6.02721970e-01, 6.90537084e-01, ...,\n",
       "        4.94657150e-01, 9.98650841e-01, 3.69285041e-01],\n",
       "       [1.00000000e+00, 5.32080363e-01, 7.82608696e-01, ...,\n",
       "        4.94657150e-01, 9.98650841e-01, 3.69285041e-01]])"
      ]
     },
     "execution_count": 26,
     "metadata": {},
     "output_type": "execute_result"
    }
   ],
   "source": [
    "from sklearn import preprocessing\n",
    "minmax = preprocessing.MinMaxScaler(feature_range=(0,1))\n",
    "minmax.fit(x).transform(x)\n"
   ]
  },
  {
   "cell_type": "code",
   "execution_count": 2,
   "metadata": {},
   "outputs": [
    {
     "ename": "NameError",
     "evalue": "name 'x' is not defined",
     "output_type": "error",
     "traceback": [
      "\u001b[1;31m---------------------------------------------------------------------------\u001b[0m",
      "\u001b[1;31mNameError\u001b[0m                                 Traceback (most recent call last)",
      "Cell \u001b[1;32mIn[2], line 3\u001b[0m\n\u001b[0;32m      1\u001b[0m \u001b[38;5;28;01mfrom\u001b[39;00m \u001b[38;5;21;01msklearn\u001b[39;00m \u001b[38;5;28;01mimport\u001b[39;00m model_selection,neighbors\n\u001b[0;32m      2\u001b[0m \u001b[38;5;28;01mfrom\u001b[39;00m \u001b[38;5;21;01msklearn\u001b[39;00m\u001b[38;5;21;01m.\u001b[39;00m\u001b[38;5;21;01mmodel_selection\u001b[39;00m \u001b[38;5;28;01mimport\u001b[39;00m train_test_split\n\u001b[1;32m----> 3\u001b[0m x_train,x_test\u001b[38;5;241m=\u001b[39mtrain_test_split(x,test_size\u001b[38;5;241m=\u001b[39m\u001b[38;5;241m0.2\u001b[39m)\n",
      "\u001b[1;31mNameError\u001b[0m: name 'x' is not defined"
     ]
    }
   ],
   "source": []
  }
 ],
 "metadata": {
  "kernelspec": {
   "display_name": "Python 3",
   "language": "python",
   "name": "python3"
  },
  "language_info": {
   "codemirror_mode": {
    "name": "ipython",
    "version": 3
   },
   "file_extension": ".py",
   "mimetype": "text/x-python",
   "name": "python",
   "nbconvert_exporter": "python",
   "pygments_lexer": "ipython3",
   "version": "3.12.5"
  }
 },
 "nbformat": 4,
 "nbformat_minor": 2
}
