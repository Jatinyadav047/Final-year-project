{
 "cells": [
  {
   "cell_type": "markdown",
   "metadata": {},
   "source": [
    "Load and Label the Data:"
   ]
  },
  {
   "cell_type": "code",
   "execution_count": 1,
   "metadata": {},
   "outputs": [
    {
     "name": "stdout",
     "output_type": "stream",
     "text": [
      "       Time       Ipv         Vpv         Vdc        ia        ib        ic  \\\n",
      "0  0.000028  1.572327  101.348877  144.140625 -0.135133  0.490112 -0.354985   \n",
      "1  0.000128  1.503265  101.458740  143.554688 -0.108277  0.510254 -0.388555   \n",
      "2  0.000228  1.492859  101.574707  143.554688 -0.168702  0.496826 -0.334844   \n",
      "3  0.000328  1.558136  101.312256  143.261719 -0.135133  0.510254 -0.361699   \n",
      "4  0.000428  1.631927  101.141357  143.847656 -0.202271  0.503540 -0.321416   \n",
      "\n",
      "          va          vb          vc  Iabc    If  Vabc    Vf  Fault_Type  Mode  \n",
      "0  41.744537 -149.872894  109.064585   1.0  50.0   1.0  50.0           0  IPPT  \n",
      "1  46.831512 -150.716705  105.829976   1.0  50.0   1.0  50.0           0  IPPT  \n",
      "2  51.074677 -152.018585  102.543132   1.0  50.0   1.0  50.0           0  IPPT  \n",
      "3  55.848236 -152.585144   98.143260   1.0  50.0   1.0  50.0           0  IPPT  \n",
      "4  60.055237 -152.609253   94.261729   1.0  50.0   1.0  50.0           0  IPPT  \n"
     ]
    }
   ],
   "source": [
    "import pandas as pd\n",
    "\n",
    "# List of filenames with the correct folder path\n",
    "csv_files = ['Csv/F0L.csv', 'Csv/F0M.csv', 'Csv/F1L.csv', 'Csv/F1M.csv',\n",
    "             'Csv/F2L.csv', 'Csv/F2M.csv', 'Csv/F3L.csv', 'Csv/F3M.csv',\n",
    "             'Csv/F4L.csv', 'Csv/F4M.csv', 'Csv/F5L.csv', 'Csv/F5M.csv',\n",
    "             'Csv/F6L.csv', 'Csv/F6M.csv', 'Csv/F7L.csv', 'Csv/F7M.csv']\n",
    "\n",
    "data_list = []\n",
    "\n",
    "# Iterate through each file\n",
    "for file in csv_files:\n",
    "    # Load the CSV file\n",
    "    df = pd.read_csv(file)\n",
    "    \n",
    "    # Extract fault scenario and operation mode from the filename\n",
    "    fault_type = int(file[5])  # Extracts 'x' from 'Fxy' (F0L, F1M, etc.)\n",
    "    mode = 'MPPT' if 'M' in file else 'IPPT'  # 'M' for MPPT, 'L' for IPPT\n",
    "    \n",
    "    # Add columns for fault type and operation mode\n",
    "    df['Fault_Type'] = fault_type\n",
    "    df['Mode'] = mode\n",
    "    \n",
    "    # Append to list\n",
    "    data_list.append(df)\n",
    "\n",
    "# Combine all the data into one DataFrame\n",
    "combined_data = pd.concat(data_list, ignore_index=True)\n",
    "\n",
    "# Check the structure of the combined dataset\n",
    "print(combined_data.head())\n"
   ]
  },
  {
   "cell_type": "markdown",
   "metadata": {},
   "source": [
    "Data Cleaning and Preparation"
   ]
  },
  {
   "cell_type": "code",
   "execution_count": 2,
   "metadata": {},
   "outputs": [
    {
     "name": "stdout",
     "output_type": "stream",
     "text": [
      "Time          0\n",
      "Ipv           0\n",
      "Vpv           0\n",
      "Vdc           0\n",
      "ia            0\n",
      "ib            0\n",
      "ic            0\n",
      "va            0\n",
      "vb            0\n",
      "vc            0\n",
      "Iabc          0\n",
      "If            0\n",
      "Vabc          0\n",
      "Vf            0\n",
      "Fault_Type    0\n",
      "Mode          0\n",
      "dtype: int64\n"
     ]
    }
   ],
   "source": [
    "# Check for missing values\n",
    "print(combined_data.isnull().sum())\n",
    "# Fill missing values with the mean of each column\n",
    "#combined_data.fillna(combined_data.mean(), inplace=True)\n"
   ]
  },
  {
   "cell_type": "markdown",
   "metadata": {},
   "source": [
    " Feature Engineering\n",
    "Normalization/Standardization\n",
    "Scale your features to ensure that all features contribute equally to the model. Standardize (mean = 0, variance = 1) or normalize (scale to [0, 1]) your features."
   ]
  },
  {
   "cell_type": "code",
   "execution_count": 3,
   "metadata": {},
   "outputs": [],
   "source": [
    "from sklearn.preprocessing import StandardScaler\n",
    "\n",
    "# Drop non-numeric columns (e.g., Fault_Type, Mode)\n",
    "features = combined_data.drop(['Fault_Type', 'Mode'], axis=1)\n",
    "\n",
    "# Normalize/Standardize the data\n",
    "scaler = StandardScaler()\n",
    "scaled_features = scaler.fit_transform(features)\n",
    "\n",
    "# Create a DataFrame with scaled features\n",
    "scaled_df = pd.DataFrame(scaled_features, columns=features.columns)\n"
   ]
  },
  {
   "cell_type": "markdown",
   "metadata": {},
   "source": [
    "Create Target Variable"
   ]
  },
  {
   "cell_type": "code",
   "execution_count": 4,
   "metadata": {},
   "outputs": [],
   "source": [
    "# Target variable\n",
    "target = combined_data['Fault_Type']\n",
    "\n",
    "# Optionally include the Mode for multi-label classification\n",
    "mode = combined_data['Mode']\n"
   ]
  },
  {
   "cell_type": "markdown",
   "metadata": {},
   "source": [
    "Train-Test Split"
   ]
  },
  {
   "cell_type": "code",
   "execution_count": 5,
   "metadata": {},
   "outputs": [],
   "source": [
    "from sklearn.model_selection import train_test_split\n",
    "\n",
    "# Split data into training and testing sets\n",
    "X_train, X_test, y_train, y_test = train_test_split(scaled_df, target, test_size=0.2, random_state=42)\n",
    "\n",
    "# Optionally include mode in the split if doing multi-label classification\n",
    "X_train, X_test, y_train, y_test, mode_train, mode_test = train_test_split(scaled_df, target, mode, test_size=0.2, random_state=42)\n"
   ]
  },
  {
   "cell_type": "code",
   "execution_count": 6,
   "metadata": {},
   "outputs": [],
   "source": [
    "import seaborn as sns\n",
    "import matplotlib.pyplot as plt\n",
    "from sklearn.metrics import confusion_matrix\n",
    "\n",
    "# Function to plot confusion matrix\n",
    "def plot_confusion_matrix(y_test, y_pred, model_name):\n",
    "    # Generate the confusion matrix\n",
    "    conf_matrix = confusion_matrix(y_test, y_pred)\n",
    "    \n",
    "    # Plot the confusion matrix using seaborn's heatmap\n",
    "    plt.figure(figsize=(8,6))\n",
    "    sns.heatmap(conf_matrix, annot=True, fmt='d', cmap='Blues', cbar=False)\n",
    "    plt.title(f'Confusion Matrix for {model_name}')\n",
    "    plt.xlabel('Predicted Labels')\n",
    "    plt.ylabel('True Labels')\n",
    "    plt.show()\n"
   ]
  },
  {
   "cell_type": "markdown",
   "metadata": {},
   "source": [
    "K-Nearest Neighbors (KNN)"
   ]
  },
  {
   "cell_type": "code",
   "execution_count": 7,
   "metadata": {},
   "outputs": [
    {
     "name": "stdout",
     "output_type": "stream",
     "text": [
      "\n",
      "KNN Results:\n",
      "Accuracy: 0.9185363396010132\n",
      "Classification Report:\n",
      "              precision    recall  f1-score   support\n",
      "\n",
      "           0       0.88      0.94      0.91     56927\n",
      "           1       0.91      0.94      0.92     53735\n",
      "           2       0.95      0.94      0.95     57020\n",
      "           3       0.80      0.82      0.81     34721\n",
      "           4       1.00      1.00      1.00     57330\n",
      "           5       0.93      0.91      0.92     57434\n",
      "           6       0.92      0.92      0.92     57882\n",
      "           7       0.92      0.85      0.88     57647\n",
      "\n",
      "    accuracy                           0.92    432696\n",
      "   macro avg       0.91      0.91      0.91    432696\n",
      "weighted avg       0.92      0.92      0.92    432696\n",
      "\n",
      "Confusion Matrix:\n",
      "[[53585   491   159   834     7   773   241   837]\n",
      " [  766 50349   312  1630     8   252    81   337]\n",
      " [  666   768 53709   516    11   655   251   444]\n",
      " [ 1592  2305   304 28387     3   628   737   765]\n",
      " [    0     1     4     0 57324     0     0     1]\n",
      " [ 1719   656  1035  1147     3 51983   611   280]\n",
      " [  829   178   128  1217    10   933 53109  1478]\n",
      " [ 2027   809   619  1758     8   900  2525 49001]]\n"
     ]
    },
    {
     "data": {
      "image/png": "[encoded data removed]",
      "text/plain": [
       "<Figure size 800x600 with 1 Axes>"
      ]
     },
     "metadata": {},
     "output_type": "display_data"
    }
   ],
   "source": [
    "from sklearn.neighbors import KNeighborsClassifier\n",
    "from sklearn.metrics import accuracy_score, classification_report, confusion_matrix\n",
    "\n",
    "# Initialize the KNN model\n",
    "knn_model = KNeighborsClassifier(n_neighbors=5)\n",
    "\n",
    "# Train the model on the training set\n",
    "knn_model.fit(X_train, y_train)\n",
    "\n",
    "# Make predictions on the test set\n",
    "y_pred_knn = knn_model.predict(X_test)\n",
    "\n",
    "# Evaluate the model\n",
    "accuracy_knn = accuracy_score(y_test, y_pred_knn)\n",
    "report_knn = classification_report(y_test, y_pred_knn)\n",
    "confusion_knn = confusion_matrix(y_test, y_pred_knn)\n",
    "\n",
    "# Print the results\n",
    "print(\"\\nKNN Results:\")\n",
    "print(f\"Accuracy: {accuracy_knn}\")\n",
    "print(f\"Classification Report:\\n{report_knn}\")\n",
    "print(f\"Confusion Matrix:\\n{confusion_knn}\")\n",
    "plot_confusion_matrix(y_test, y_pred_knn, \"KNN\")\n"
   ]
  },
  {
   "cell_type": "markdown",
   "metadata": {},
   "source": [
    "Random Forest Classifier"
   ]
  },
  {
   "cell_type": "code",
   "execution_count": 8,
   "metadata": {},
   "outputs": [
    {
     "name": "stdout",
     "output_type": "stream",
     "text": [
      "\n",
      "Random Forest Results:\n",
      "Accuracy: 0.9918395363026236\n",
      "Classification Report:\n",
      "              precision    recall  f1-score   support\n",
      "\n",
      "           0       0.99      0.99      0.99     56927\n",
      "           1       0.99      0.99      0.99     53735\n",
      "           2       1.00      0.99      0.99     57020\n",
      "           3       0.99      0.98      0.99     34721\n",
      "           4       1.00      1.00      1.00     57330\n",
      "           5       0.99      0.99      0.99     57434\n",
      "           6       0.99      0.99      0.99     57882\n",
      "           7       0.99      0.99      0.99     57647\n",
      "\n",
      "    accuracy                           0.99    432696\n",
      "   macro avg       0.99      0.99      0.99    432696\n",
      "weighted avg       0.99      0.99      0.99    432696\n",
      "\n",
      "Confusion Matrix:\n",
      "[[56351    45    20   220     0   232    36    23]\n",
      " [   52 53437    27    53     0    72    14    80]\n",
      " [   95    37 56679    53     0   115    21    20]\n",
      " [  254    97    16 34186     0    56    57    55]\n",
      " [    0     0     0     0 57330     0     0     0]\n",
      " [  264    94   129    72     0 56771    21    83]\n",
      " [   52    38    13    60     0    20 57438   261]\n",
      " [   85   135    41    33     0    65   315 56973]]\n"
     ]
    },
    {
     "data": {
      "image/png": "[encoded data removed]",
      "text/plain": [
       "<Figure size 800x600 with 1 Axes>"
      ]
     },
     "metadata": {},
     "output_type": "display_data"
    }
   ],
   "source": [
    "from sklearn.ensemble import RandomForestClassifier\n",
    "from sklearn.metrics import accuracy_score, classification_report, confusion_matrix\n",
    "\n",
    "# Initialize the Random Forest model\n",
    "rf_model = RandomForestClassifier(n_estimators=100, random_state=42)\n",
    "\n",
    "# Train the model on the training set\n",
    "rf_model.fit(X_train, y_train)\n",
    "\n",
    "# Make predictions on the test set\n",
    "y_pred_rf = rf_model.predict(X_test)\n",
    "\n",
    "# Evaluate the model\n",
    "accuracy_rf = accuracy_score(y_test, y_pred_rf)\n",
    "report_rf = classification_report(y_test, y_pred_rf)\n",
    "confusion_rf = confusion_matrix(y_test, y_pred_rf)\n",
    "\n",
    "# Print the results\n",
    "print(\"\\nRandom Forest Results:\")\n",
    "print(f\"Accuracy: {accuracy_rf}\")\n",
    "print(f\"Classification Report:\\n{report_rf}\")\n",
    "print(f\"Confusion Matrix:\\n{confusion_rf}\")\n",
    "plot_confusion_matrix(y_test, y_pred_rf, \"Random Forest\")\n"
   ]
  },
  {
   "cell_type": "markdown",
   "metadata": {},
   "source": [
    "Support Vector Machine (SVM)"
   ]
  },
  {
   "cell_type": "code",
   "execution_count": 4,
   "metadata": {},
   "outputs": [
    {
     "ename": "NameError",
     "evalue": "name 'X_train' is not defined",
     "output_type": "error",
     "traceback": [
      "\u001b[1;31m---------------------------------------------------------------------------\u001b[0m",
      "\u001b[1;31mNameError\u001b[0m                                 Traceback (most recent call last)",
      "Cell \u001b[1;32mIn[4], line 8\u001b[0m\n\u001b[0;32m      5\u001b[0m svm_model \u001b[38;5;241m=\u001b[39m SVC()\n\u001b[0;32m      7\u001b[0m \u001b[38;5;66;03m# Train the model on the training set\u001b[39;00m\n\u001b[1;32m----> 8\u001b[0m svm_model\u001b[38;5;241m.\u001b[39mfit(X_train, y_train)\n\u001b[0;32m     10\u001b[0m \u001b[38;5;66;03m# Make predictions on the test set\u001b[39;00m\n\u001b[0;32m     11\u001b[0m y_pred_svm \u001b[38;5;241m=\u001b[39m svm_model\u001b[38;5;241m.\u001b[39mpredict(X_test)\n",
      "\u001b[1;31mNameError\u001b[0m: name 'X_train' is not defined"
     ]
    }
   ],
   "source": [
    "from sklearn.svm import SVC\n",
    "from sklearn.metrics import accuracy_score, classification_report, confusion_matrix\n",
    "\n",
    "# Initialize the SVM model\n",
    "svm_model = SVC()\n",
    "\n",
    "# Train the model on the training set\n",
    "svm_model.fit(X_train, y_train)\n",
    "\n",
    "# Make predictions on the test set\n",
    "y_pred_svm = svm_model.predict(X_test)\n",
    "\n",
    "# Evaluate the model\n",
    "accuracy_svm = accuracy_score(y_test, y_pred_svm)\n",
    "report_svm = classification_report(y_test, y_pred_svm)\n",
    "confusion_svm = confusion_matrix(y_test, y_pred_svm)\n",
    "\n",
    "# Print the results\n",
    "print(\"\\nSVM Results:\")\n",
    "print(f\"Accuracy: {accuracy_svm}\")\n",
    "print(f\"Classification Report:\\n{report_svm}\")\n",
    "print(f\"Confusion Matrix:\\n{confusion_svm}\")\n",
    "plot_confusion_matrix(y_test, y_pred_svm, \"SVM\")\n"
   ]
  },
  {
   "cell_type": "markdown",
   "metadata": {},
   "source": [
    "Gradient Boosting Classifier"
   ]
  },
  {
   "cell_type": "code",
   "execution_count": null,
   "metadata": {},
   "outputs": [],
   "source": [
    "from sklearn.ensemble import GradientBoostingClassifier\n",
    "from sklearn.metrics import accuracy_score, classification_report, confusion_matrix\n",
    "\n",
    "# Initialize the Gradient Boosting model\n",
    "gb_model = GradientBoostingClassifier(n_estimators=100, random_state=42)\n",
    "\n",
    "# Train the model on the training set\n",
    "gb_model.fit(X_train, y_train)\n",
    "\n",
    "# Make predictions on the test set\n",
    "y_pred_gb = gb_model.predict(X_test)\n",
    "\n",
    "# Evaluate the model\n",
    "accuracy_gb = accuracy_score(y_test, y_pred_gb)\n",
    "report_gb = classification_report(y_test, y_pred_gb)\n",
    "confusion_gb = confusion_matrix(y_test, y_pred_gb)\n",
    "\n",
    "# Print the results\n",
    "print(\"\\nGradient Boosting Results:\")\n",
    "print(f\"Accuracy: {accuracy_gb}\")\n",
    "print(f\"Classification Report:\\n{report_gb}\")\n",
    "print(f\"Confusion Matrix:\\n{confusion_gb}\")\n",
    "# Gradient Boosting Confusion Matrix Plot\n",
    "plot_confusion_matrix(y_test, y_pred_gb, \"Gradient Boosting\")\n",
    "\n"
   ]
  }
 ],
 "metadata": {
  "kernelspec": {
   "display_name": "base",
   "language": "python",
   "name": "python3"
  },
  "language_info": {
   "codemirror_mode": {
    "name": "ipython",
    "version": 3
   },
   "file_extension": ".py",
   "mimetype": "text/x-python",
   "name": "python",
   "nbconvert_exporter": "python",
   "pygments_lexer": "ipython3",
   "version": "3.11.7"
  }
 },
 "nbformat": 4,
 "nbformat_minor": 2
}
