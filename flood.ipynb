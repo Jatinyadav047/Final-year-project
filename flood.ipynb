{
 "cells": [
  {
   "cell_type": "code",
   "execution_count": 5,
   "metadata": {},
   "outputs": [],
   "source": [
    "import numpy as np\n",
    "import pandas as pd "
   ]
  },
  {
   "cell_type": "code",
   "execution_count": 6,
   "metadata": {},
   "outputs": [
    {
     "data": {
      "text/html": [
       "<div>\n",
       "<style scoped>\n",
       "    .dataframe tbody tr th:only-of-type {\n",
       "        vertical-align: middle;\n",
       "    }\n",
       "\n",
       "    .dataframe tbody tr th {\n",
       "        vertical-align: top;\n",
       "    }\n",
       "\n",
       "    .dataframe thead th {\n",
       "        text-align: right;\n",
       "    }\n",
       "</style>\n",
       "<table border=\"1\" class=\"dataframe\">\n",
       "  <thead>\n",
       "    <tr style=\"text-align: right;\">\n",
       "      <th></th>\n",
       "      <th>SUBDIVISION</th>\n",
       "      <th>YEAR</th>\n",
       "      <th>JAN</th>\n",
       "      <th>FEB</th>\n",
       "      <th>MAR</th>\n",
       "      <th>APR</th>\n",
       "      <th>MAY</th>\n",
       "      <th>JUN</th>\n",
       "      <th>JUL</th>\n",
       "      <th>AUG</th>\n",
       "      <th>SEP</th>\n",
       "      <th>OCT</th>\n",
       "      <th>NOV</th>\n",
       "      <th>DEC</th>\n",
       "      <th>ANNUAL RAINFALL</th>\n",
       "      <th>FLOODS</th>\n",
       "    </tr>\n",
       "  </thead>\n",
       "  <tbody>\n",
       "    <tr>\n",
       "      <th>0</th>\n",
       "      <td>KERALA</td>\n",
       "      <td>1901</td>\n",
       "      <td>28.7</td>\n",
       "      <td>44.7</td>\n",
       "      <td>51.6</td>\n",
       "      <td>160.0</td>\n",
       "      <td>174.7</td>\n",
       "      <td>824.6</td>\n",
       "      <td>743.0</td>\n",
       "      <td>357.5</td>\n",
       "      <td>197.7</td>\n",
       "      <td>266.9</td>\n",
       "      <td>350.8</td>\n",
       "      <td>48.4</td>\n",
       "      <td>3248.6</td>\n",
       "      <td>YES</td>\n",
       "    </tr>\n",
       "    <tr>\n",
       "      <th>1</th>\n",
       "      <td>KERALA</td>\n",
       "      <td>1902</td>\n",
       "      <td>6.7</td>\n",
       "      <td>2.6</td>\n",
       "      <td>57.3</td>\n",
       "      <td>83.9</td>\n",
       "      <td>134.5</td>\n",
       "      <td>390.9</td>\n",
       "      <td>1205.0</td>\n",
       "      <td>315.8</td>\n",
       "      <td>491.6</td>\n",
       "      <td>358.4</td>\n",
       "      <td>158.3</td>\n",
       "      <td>121.5</td>\n",
       "      <td>3326.6</td>\n",
       "      <td>YES</td>\n",
       "    </tr>\n",
       "    <tr>\n",
       "      <th>2</th>\n",
       "      <td>KERALA</td>\n",
       "      <td>1903</td>\n",
       "      <td>3.2</td>\n",
       "      <td>18.6</td>\n",
       "      <td>3.1</td>\n",
       "      <td>83.6</td>\n",
       "      <td>249.7</td>\n",
       "      <td>558.6</td>\n",
       "      <td>1022.5</td>\n",
       "      <td>420.2</td>\n",
       "      <td>341.8</td>\n",
       "      <td>354.1</td>\n",
       "      <td>157.0</td>\n",
       "      <td>59.0</td>\n",
       "      <td>3271.2</td>\n",
       "      <td>YES</td>\n",
       "    </tr>\n",
       "    <tr>\n",
       "      <th>3</th>\n",
       "      <td>KERALA</td>\n",
       "      <td>1904</td>\n",
       "      <td>23.7</td>\n",
       "      <td>3.0</td>\n",
       "      <td>32.2</td>\n",
       "      <td>71.5</td>\n",
       "      <td>235.7</td>\n",
       "      <td>1098.2</td>\n",
       "      <td>725.5</td>\n",
       "      <td>351.8</td>\n",
       "      <td>222.7</td>\n",
       "      <td>328.1</td>\n",
       "      <td>33.9</td>\n",
       "      <td>3.3</td>\n",
       "      <td>3129.7</td>\n",
       "      <td>YES</td>\n",
       "    </tr>\n",
       "    <tr>\n",
       "      <th>4</th>\n",
       "      <td>KERALA</td>\n",
       "      <td>1905</td>\n",
       "      <td>1.2</td>\n",
       "      <td>22.3</td>\n",
       "      <td>9.4</td>\n",
       "      <td>105.9</td>\n",
       "      <td>263.3</td>\n",
       "      <td>850.2</td>\n",
       "      <td>520.5</td>\n",
       "      <td>293.6</td>\n",
       "      <td>217.2</td>\n",
       "      <td>383.5</td>\n",
       "      <td>74.4</td>\n",
       "      <td>0.2</td>\n",
       "      <td>2741.6</td>\n",
       "      <td>NO</td>\n",
       "    </tr>\n",
       "  </tbody>\n",
       "</table>\n",
       "</div>"
      ],
      "text/plain": [
       "  SUBDIVISION  YEAR   JAN   FEB   MAR    APR    MAY     JUN     JUL    AUG  \\\n",
       "0      KERALA  1901  28.7  44.7  51.6  160.0  174.7   824.6   743.0  357.5   \n",
       "1      KERALA  1902   6.7   2.6  57.3   83.9  134.5   390.9  1205.0  315.8   \n",
       "2      KERALA  1903   3.2  18.6   3.1   83.6  249.7   558.6  1022.5  420.2   \n",
       "3      KERALA  1904  23.7   3.0  32.2   71.5  235.7  1098.2   725.5  351.8   \n",
       "4      KERALA  1905   1.2  22.3   9.4  105.9  263.3   850.2   520.5  293.6   \n",
       "\n",
       "     SEP    OCT    NOV    DEC   ANNUAL RAINFALL FLOODS  \n",
       "0  197.7  266.9  350.8   48.4            3248.6    YES  \n",
       "1  491.6  358.4  158.3  121.5            3326.6    YES  \n",
       "2  341.8  354.1  157.0   59.0            3271.2    YES  \n",
       "3  222.7  328.1   33.9    3.3            3129.7    YES  \n",
       "4  217.2  383.5   74.4    0.2            2741.6     NO  "
      ]
     },
     "execution_count": 6,
     "metadata": {},
     "output_type": "execute_result"
    }
   ],
   "source": [
    "#Read the data present in dataset\n",
    "data = pd.read_csv('kerala.csv')\n",
    "#Using data.head() we can see the top 5 rows of the dataset\n",
    "data.head()"
   ]
  },
  {
   "cell_type": "code",
   "execution_count": 7,
   "metadata": {},
   "outputs": [
    {
     "data": {
      "text/plain": [
       "SUBDIVISION         0\n",
       "YEAR                0\n",
       "JAN                 0\n",
       "FEB                 0\n",
       "MAR                 0\n",
       "APR                 0\n",
       "MAY                 0\n",
       "JUN                 0\n",
       "JUL                 0\n",
       "AUG                 0\n",
       "SEP                 0\n",
       "OCT                 0\n",
       "NOV                 0\n",
       "DEC                 0\n",
       " ANNUAL RAINFALL    0\n",
       "FLOODS              0\n",
       "dtype: int64"
      ]
     },
     "execution_count": 7,
     "metadata": {},
     "output_type": "execute_result"
    }
   ],
   "source": [
    "# TO CHECK ANY REDUNDANCY IN DATA\n",
    "data.apply(lambda x:sum(x.isnull()), axis=0)"
   ]
  },
  {
   "cell_type": "code",
   "execution_count": 8,
   "metadata": {},
   "outputs": [
    {
     "data": {
      "text/html": [
       "<div>\n",
       "<style scoped>\n",
       "    .dataframe tbody tr th:only-of-type {\n",
       "        vertical-align: middle;\n",
       "    }\n",
       "\n",
       "    .dataframe tbody tr th {\n",
       "        vertical-align: top;\n",
       "    }\n",
       "\n",
       "    .dataframe thead th {\n",
       "        text-align: right;\n",
       "    }\n",
       "</style>\n",
       "<table border=\"1\" class=\"dataframe\">\n",
       "  <thead>\n",
       "    <tr style=\"text-align: right;\">\n",
       "      <th></th>\n",
       "      <th>SUBDIVISION</th>\n",
       "      <th>YEAR</th>\n",
       "      <th>JAN</th>\n",
       "      <th>FEB</th>\n",
       "      <th>MAR</th>\n",
       "      <th>APR</th>\n",
       "      <th>MAY</th>\n",
       "      <th>JUN</th>\n",
       "      <th>JUL</th>\n",
       "      <th>AUG</th>\n",
       "      <th>SEP</th>\n",
       "      <th>OCT</th>\n",
       "      <th>NOV</th>\n",
       "      <th>DEC</th>\n",
       "      <th>ANNUAL RAINFALL</th>\n",
       "      <th>FLOODS</th>\n",
       "    </tr>\n",
       "  </thead>\n",
       "  <tbody>\n",
       "    <tr>\n",
       "      <th>0</th>\n",
       "      <td>KERALA</td>\n",
       "      <td>1901</td>\n",
       "      <td>28.7</td>\n",
       "      <td>44.7</td>\n",
       "      <td>51.6</td>\n",
       "      <td>160.0</td>\n",
       "      <td>174.7</td>\n",
       "      <td>824.6</td>\n",
       "      <td>743.0</td>\n",
       "      <td>357.5</td>\n",
       "      <td>197.7</td>\n",
       "      <td>266.9</td>\n",
       "      <td>350.8</td>\n",
       "      <td>48.4</td>\n",
       "      <td>3248.6</td>\n",
       "      <td>1</td>\n",
       "    </tr>\n",
       "    <tr>\n",
       "      <th>1</th>\n",
       "      <td>KERALA</td>\n",
       "      <td>1902</td>\n",
       "      <td>6.7</td>\n",
       "      <td>2.6</td>\n",
       "      <td>57.3</td>\n",
       "      <td>83.9</td>\n",
       "      <td>134.5</td>\n",
       "      <td>390.9</td>\n",
       "      <td>1205.0</td>\n",
       "      <td>315.8</td>\n",
       "      <td>491.6</td>\n",
       "      <td>358.4</td>\n",
       "      <td>158.3</td>\n",
       "      <td>121.5</td>\n",
       "      <td>3326.6</td>\n",
       "      <td>1</td>\n",
       "    </tr>\n",
       "    <tr>\n",
       "      <th>2</th>\n",
       "      <td>KERALA</td>\n",
       "      <td>1903</td>\n",
       "      <td>3.2</td>\n",
       "      <td>18.6</td>\n",
       "      <td>3.1</td>\n",
       "      <td>83.6</td>\n",
       "      <td>249.7</td>\n",
       "      <td>558.6</td>\n",
       "      <td>1022.5</td>\n",
       "      <td>420.2</td>\n",
       "      <td>341.8</td>\n",
       "      <td>354.1</td>\n",
       "      <td>157.0</td>\n",
       "      <td>59.0</td>\n",
       "      <td>3271.2</td>\n",
       "      <td>1</td>\n",
       "    </tr>\n",
       "    <tr>\n",
       "      <th>3</th>\n",
       "      <td>KERALA</td>\n",
       "      <td>1904</td>\n",
       "      <td>23.7</td>\n",
       "      <td>3.0</td>\n",
       "      <td>32.2</td>\n",
       "      <td>71.5</td>\n",
       "      <td>235.7</td>\n",
       "      <td>1098.2</td>\n",
       "      <td>725.5</td>\n",
       "      <td>351.8</td>\n",
       "      <td>222.7</td>\n",
       "      <td>328.1</td>\n",
       "      <td>33.9</td>\n",
       "      <td>3.3</td>\n",
       "      <td>3129.7</td>\n",
       "      <td>1</td>\n",
       "    </tr>\n",
       "    <tr>\n",
       "      <th>4</th>\n",
       "      <td>KERALA</td>\n",
       "      <td>1905</td>\n",
       "      <td>1.2</td>\n",
       "      <td>22.3</td>\n",
       "      <td>9.4</td>\n",
       "      <td>105.9</td>\n",
       "      <td>263.3</td>\n",
       "      <td>850.2</td>\n",
       "      <td>520.5</td>\n",
       "      <td>293.6</td>\n",
       "      <td>217.2</td>\n",
       "      <td>383.5</td>\n",
       "      <td>74.4</td>\n",
       "      <td>0.2</td>\n",
       "      <td>2741.6</td>\n",
       "      <td>0</td>\n",
       "    </tr>\n",
       "  </tbody>\n",
       "</table>\n",
       "</div>"
      ],
      "text/plain": [
       "  SUBDIVISION  YEAR   JAN   FEB   MAR    APR    MAY     JUN     JUL    AUG  \\\n",
       "0      KERALA  1901  28.7  44.7  51.6  160.0  174.7   824.6   743.0  357.5   \n",
       "1      KERALA  1902   6.7   2.6  57.3   83.9  134.5   390.9  1205.0  315.8   \n",
       "2      KERALA  1903   3.2  18.6   3.1   83.6  249.7   558.6  1022.5  420.2   \n",
       "3      KERALA  1904  23.7   3.0  32.2   71.5  235.7  1098.2   725.5  351.8   \n",
       "4      KERALA  1905   1.2  22.3   9.4  105.9  263.3   850.2   520.5  293.6   \n",
       "\n",
       "     SEP    OCT    NOV    DEC   ANNUAL RAINFALL  FLOODS  \n",
       "0  197.7  266.9  350.8   48.4            3248.6       1  \n",
       "1  491.6  358.4  158.3  121.5            3326.6       1  \n",
       "2  341.8  354.1  157.0   59.0            3271.2       1  \n",
       "3  222.7  328.1   33.9    3.3            3129.7       1  \n",
       "4  217.2  383.5   74.4    0.2            2741.6       0  "
      ]
     },
     "execution_count": 8,
     "metadata": {},
     "output_type": "execute_result"
    }
   ],
   "source": [
    "data['FLOODS'].replace(['YES','NO'],[1,0],inplace=True)\n",
    "data.head()"
   ]
  },
  {
   "cell_type": "code",
   "execution_count": 9,
   "metadata": {},
   "outputs": [
    {
     "data": {
      "text/html": [
       "<div>\n",
       "<style scoped>\n",
       "    .dataframe tbody tr th:only-of-type {\n",
       "        vertical-align: middle;\n",
       "    }\n",
       "\n",
       "    .dataframe tbody tr th {\n",
       "        vertical-align: top;\n",
       "    }\n",
       "\n",
       "    .dataframe thead th {\n",
       "        text-align: right;\n",
       "    }\n",
       "</style>\n",
       "<table border=\"1\" class=\"dataframe\">\n",
       "  <thead>\n",
       "    <tr style=\"text-align: right;\">\n",
       "      <th></th>\n",
       "      <th>YEAR</th>\n",
       "      <th>JAN</th>\n",
       "      <th>FEB</th>\n",
       "      <th>MAR</th>\n",
       "      <th>APR</th>\n",
       "      <th>MAY</th>\n",
       "      <th>JUN</th>\n",
       "      <th>JUL</th>\n",
       "      <th>AUG</th>\n",
       "      <th>SEP</th>\n",
       "      <th>OCT</th>\n",
       "      <th>NOV</th>\n",
       "      <th>DEC</th>\n",
       "    </tr>\n",
       "  </thead>\n",
       "  <tbody>\n",
       "    <tr>\n",
       "      <th>0</th>\n",
       "      <td>1901</td>\n",
       "      <td>28.7</td>\n",
       "      <td>44.7</td>\n",
       "      <td>51.6</td>\n",
       "      <td>160.0</td>\n",
       "      <td>174.7</td>\n",
       "      <td>824.6</td>\n",
       "      <td>743.0</td>\n",
       "      <td>357.5</td>\n",
       "      <td>197.7</td>\n",
       "      <td>266.9</td>\n",
       "      <td>350.8</td>\n",
       "      <td>48.4</td>\n",
       "    </tr>\n",
       "    <tr>\n",
       "      <th>1</th>\n",
       "      <td>1902</td>\n",
       "      <td>6.7</td>\n",
       "      <td>2.6</td>\n",
       "      <td>57.3</td>\n",
       "      <td>83.9</td>\n",
       "      <td>134.5</td>\n",
       "      <td>390.9</td>\n",
       "      <td>1205.0</td>\n",
       "      <td>315.8</td>\n",
       "      <td>491.6</td>\n",
       "      <td>358.4</td>\n",
       "      <td>158.3</td>\n",
       "      <td>121.5</td>\n",
       "    </tr>\n",
       "    <tr>\n",
       "      <th>2</th>\n",
       "      <td>1903</td>\n",
       "      <td>3.2</td>\n",
       "      <td>18.6</td>\n",
       "      <td>3.1</td>\n",
       "      <td>83.6</td>\n",
       "      <td>249.7</td>\n",
       "      <td>558.6</td>\n",
       "      <td>1022.5</td>\n",
       "      <td>420.2</td>\n",
       "      <td>341.8</td>\n",
       "      <td>354.1</td>\n",
       "      <td>157.0</td>\n",
       "      <td>59.0</td>\n",
       "    </tr>\n",
       "    <tr>\n",
       "      <th>3</th>\n",
       "      <td>1904</td>\n",
       "      <td>23.7</td>\n",
       "      <td>3.0</td>\n",
       "      <td>32.2</td>\n",
       "      <td>71.5</td>\n",
       "      <td>235.7</td>\n",
       "      <td>1098.2</td>\n",
       "      <td>725.5</td>\n",
       "      <td>351.8</td>\n",
       "      <td>222.7</td>\n",
       "      <td>328.1</td>\n",
       "      <td>33.9</td>\n",
       "      <td>3.3</td>\n",
       "    </tr>\n",
       "    <tr>\n",
       "      <th>4</th>\n",
       "      <td>1905</td>\n",
       "      <td>1.2</td>\n",
       "      <td>22.3</td>\n",
       "      <td>9.4</td>\n",
       "      <td>105.9</td>\n",
       "      <td>263.3</td>\n",
       "      <td>850.2</td>\n",
       "      <td>520.5</td>\n",
       "      <td>293.6</td>\n",
       "      <td>217.2</td>\n",
       "      <td>383.5</td>\n",
       "      <td>74.4</td>\n",
       "      <td>0.2</td>\n",
       "    </tr>\n",
       "  </tbody>\n",
       "</table>\n",
       "</div>"
      ],
      "text/plain": [
       "   YEAR   JAN   FEB   MAR    APR    MAY     JUN     JUL    AUG    SEP    OCT  \\\n",
       "0  1901  28.7  44.7  51.6  160.0  174.7   824.6   743.0  357.5  197.7  266.9   \n",
       "1  1902   6.7   2.6  57.3   83.9  134.5   390.9  1205.0  315.8  491.6  358.4   \n",
       "2  1903   3.2  18.6   3.1   83.6  249.7   558.6  1022.5  420.2  341.8  354.1   \n",
       "3  1904  23.7   3.0  32.2   71.5  235.7  1098.2   725.5  351.8  222.7  328.1   \n",
       "4  1905   1.2  22.3   9.4  105.9  263.3   850.2   520.5  293.6  217.2  383.5   \n",
       "\n",
       "     NOV    DEC  \n",
       "0  350.8   48.4  \n",
       "1  158.3  121.5  \n",
       "2  157.0   59.0  \n",
       "3   33.9    3.3  \n",
       "4   74.4    0.2  "
      ]
     },
     "execution_count": 9,
     "metadata": {},
     "output_type": "execute_result"
    }
   ],
   "source": [
    "#Now let's seperate the data which we are gonna use for prediction\n",
    "x = data.iloc[:,1:14]\n",
    "x.head()"
   ]
  },
  {
   "cell_type": "code",
   "execution_count": 10,
   "metadata": {},
   "outputs": [
    {
     "data": {
      "text/plain": [
       "0    1\n",
       "1    1\n",
       "2    1\n",
       "3    1\n",
       "4    0\n",
       "Name: FLOODS, dtype: int64"
      ]
     },
     "execution_count": 10,
     "metadata": {},
     "output_type": "execute_result"
    }
   ],
   "source": [
    "#Now seperate the flood label from the dataset\n",
    "y = data.iloc[:, -1]\n",
    "y.head()"
   ]
  },
  {
   "cell_type": "code",
   "execution_count": 11,
   "metadata": {},
   "outputs": [
    {
     "data": {
      "image/png": "[encoded data removed]",
      "text/plain": [
       "<Figure size 640x480 with 6 Axes>"
      ]
     },
     "metadata": {},
     "output_type": "display_data"
    }
   ],
   "source": [
    "#Let's see hoe the rainfall index vary during rainy season\n",
    "import matplotlib.pyplot as plt\n",
    "%matplotlib inline\n",
    "c = data[['JAN','JUN','JUL','AUG','SEP']]\n",
    "c.hist()\n",
    "plt.show()"
   ]
  },
  {
   "cell_type": "code",
   "execution_count": 12,
   "metadata": {},
   "outputs": [
    {
     "data": {
      "text/plain": [
       "array([[0.        , 0.34371257, 0.56582278, ..., 0.39727673, 0.95570189,\n",
       "        0.2388724 ],\n",
       "       [0.00854701, 0.08023952, 0.03291139, ..., 0.5804966 , 0.37952709,\n",
       "        0.60039565],\n",
       "       [0.01709402, 0.03832335, 0.23544304, ..., 0.57188626, 0.37563604,\n",
       "        0.29129575],\n",
       "       ...,\n",
       "       [0.98290598, 0.02874251, 0.04810127, ..., 0.31517821, 0.28105358,\n",
       "        0.11622156],\n",
       "       [0.99145299, 0.02275449, 0.08607595, ..., 0.24809772, 0.18258007,\n",
       "        0.18793274],\n",
       "       [1.        , 0.34850299, 0.65949367, ..., 0.57589107, 0.28105358,\n",
       "        0.3214639 ]])"
      ]
     },
     "execution_count": 12,
     "metadata": {},
     "output_type": "execute_result"
    }
   ],
   "source": [
    "#Data might be widely distributed so let's scale it between 0 and 1\n",
    "from sklearn import preprocessing\n",
    "minmax = preprocessing.MinMaxScaler(feature_range=(0,1))\n",
    "minmax.fit(x).transform(x)\n",
    "\n",
    "# Uniformity of Feature Influence:\n",
    "\n",
    "# Ensures all features contribute equally to the model.\n",
    "# Prevents features with larger scales from dominating the learning process.\n",
    "\n",
    "# Improved Convergence in Optimization:\n",
    "\n",
    "# Speeds up convergence in gradient descent by normalizing feature scales.\n",
    "# Helps algorithms like linear regression, logistic regression, and neural networks converge more efficiently.\n",
    "\n",
    "# Enhanced Model Performance:\n",
    "\n",
    "# Ensures regularization penalties apply uniformly across features.\n",
    "# Leads to more optimal models by preventing certain features from being unfairly penalized.\n",
    "\n",
    "# Better Interpretability:\n",
    "\n",
    "# Makes it easier to interpret the influence of each feature in models like linear regression.\n",
    "# Normalizes the magnitude of coefficients for clearer insights.\n"
   ]
  },
  {
   "cell_type": "code",
   "execution_count": 13,
   "metadata": {},
   "outputs": [],
   "source": [
    "#Let's divide the dataset into 2 sets:train and test in ratio (4:1)\n",
    "from sklearn import model_selection,neighbors\n",
    "from sklearn.model_selection import train_test_split\n",
    "x_train,x_test,y_train,y_test=train_test_split(x,y,test_size=0.2)"
   ]
  },
  {
   "cell_type": "code",
   "execution_count": 14,
   "metadata": {},
   "outputs": [
    {
     "data": {
      "text/html": [
       "<div>\n",
       "<style scoped>\n",
       "    .dataframe tbody tr th:only-of-type {\n",
       "        vertical-align: middle;\n",
       "    }\n",
       "\n",
       "    .dataframe tbody tr th {\n",
       "        vertical-align: top;\n",
       "    }\n",
       "\n",
       "    .dataframe thead th {\n",
       "        text-align: right;\n",
       "    }\n",
       "</style>\n",
       "<table border=\"1\" class=\"dataframe\">\n",
       "  <thead>\n",
       "    <tr style=\"text-align: right;\">\n",
       "      <th></th>\n",
       "      <th>YEAR</th>\n",
       "      <th>JAN</th>\n",
       "      <th>FEB</th>\n",
       "      <th>MAR</th>\n",
       "      <th>APR</th>\n",
       "      <th>MAY</th>\n",
       "      <th>JUN</th>\n",
       "      <th>JUL</th>\n",
       "      <th>AUG</th>\n",
       "      <th>SEP</th>\n",
       "      <th>OCT</th>\n",
       "      <th>NOV</th>\n",
       "      <th>DEC</th>\n",
       "    </tr>\n",
       "  </thead>\n",
       "  <tbody>\n",
       "    <tr>\n",
       "      <th>115</th>\n",
       "      <td>2016</td>\n",
       "      <td>2.4</td>\n",
       "      <td>3.8</td>\n",
       "      <td>35.9</td>\n",
       "      <td>143.0</td>\n",
       "      <td>186.4</td>\n",
       "      <td>522.2</td>\n",
       "      <td>412.3</td>\n",
       "      <td>325.5</td>\n",
       "      <td>173.2</td>\n",
       "      <td>225.9</td>\n",
       "      <td>125.4</td>\n",
       "      <td>23.6</td>\n",
       "    </tr>\n",
       "    <tr>\n",
       "      <th>46</th>\n",
       "      <td>1947</td>\n",
       "      <td>22.2</td>\n",
       "      <td>27.3</td>\n",
       "      <td>98.0</td>\n",
       "      <td>142.2</td>\n",
       "      <td>85.7</td>\n",
       "      <td>556.1</td>\n",
       "      <td>669.3</td>\n",
       "      <td>739.6</td>\n",
       "      <td>394.5</td>\n",
       "      <td>183.7</td>\n",
       "      <td>32.4</td>\n",
       "      <td>47.0</td>\n",
       "    </tr>\n",
       "    <tr>\n",
       "      <th>97</th>\n",
       "      <td>1998</td>\n",
       "      <td>6.0</td>\n",
       "      <td>2.1</td>\n",
       "      <td>8.1</td>\n",
       "      <td>61.1</td>\n",
       "      <td>151.6</td>\n",
       "      <td>732.5</td>\n",
       "      <td>641.4</td>\n",
       "      <td>371.8</td>\n",
       "      <td>517.6</td>\n",
       "      <td>444.8</td>\n",
       "      <td>135.0</td>\n",
       "      <td>79.4</td>\n",
       "    </tr>\n",
       "    <tr>\n",
       "      <th>100</th>\n",
       "      <td>2001</td>\n",
       "      <td>16.5</td>\n",
       "      <td>28.3</td>\n",
       "      <td>7.0</td>\n",
       "      <td>238.0</td>\n",
       "      <td>238.6</td>\n",
       "      <td>715.3</td>\n",
       "      <td>598.5</td>\n",
       "      <td>361.3</td>\n",
       "      <td>216.8</td>\n",
       "      <td>319.6</td>\n",
       "      <td>181.0</td>\n",
       "      <td>10.1</td>\n",
       "    </tr>\n",
       "    <tr>\n",
       "      <th>78</th>\n",
       "      <td>1979</td>\n",
       "      <td>2.4</td>\n",
       "      <td>30.0</td>\n",
       "      <td>11.7</td>\n",
       "      <td>42.0</td>\n",
       "      <td>127.7</td>\n",
       "      <td>582.9</td>\n",
       "      <td>662.2</td>\n",
       "      <td>383.7</td>\n",
       "      <td>211.7</td>\n",
       "      <td>163.8</td>\n",
       "      <td>261.7</td>\n",
       "      <td>23.3</td>\n",
       "    </tr>\n",
       "    <tr>\n",
       "      <th>41</th>\n",
       "      <td>1942</td>\n",
       "      <td>2.4</td>\n",
       "      <td>4.7</td>\n",
       "      <td>23.2</td>\n",
       "      <td>180.3</td>\n",
       "      <td>191.9</td>\n",
       "      <td>813.6</td>\n",
       "      <td>828.8</td>\n",
       "      <td>329.3</td>\n",
       "      <td>99.8</td>\n",
       "      <td>374.4</td>\n",
       "      <td>84.7</td>\n",
       "      <td>117.9</td>\n",
       "    </tr>\n",
       "    <tr>\n",
       "      <th>71</th>\n",
       "      <td>1972</td>\n",
       "      <td>2.6</td>\n",
       "      <td>7.5</td>\n",
       "      <td>2.5</td>\n",
       "      <td>87.5</td>\n",
       "      <td>436.0</td>\n",
       "      <td>401.8</td>\n",
       "      <td>714.4</td>\n",
       "      <td>294.9</td>\n",
       "      <td>185.7</td>\n",
       "      <td>351.5</td>\n",
       "      <td>140.5</td>\n",
       "      <td>114.3</td>\n",
       "    </tr>\n",
       "    <tr>\n",
       "      <th>19</th>\n",
       "      <td>1920</td>\n",
       "      <td>35.2</td>\n",
       "      <td>5.5</td>\n",
       "      <td>24.1</td>\n",
       "      <td>172.0</td>\n",
       "      <td>87.7</td>\n",
       "      <td>964.3</td>\n",
       "      <td>940.8</td>\n",
       "      <td>235.0</td>\n",
       "      <td>178.0</td>\n",
       "      <td>350.1</td>\n",
       "      <td>302.3</td>\n",
       "      <td>8.2</td>\n",
       "    </tr>\n",
       "    <tr>\n",
       "      <th>11</th>\n",
       "      <td>1912</td>\n",
       "      <td>1.9</td>\n",
       "      <td>15.0</td>\n",
       "      <td>11.2</td>\n",
       "      <td>122.7</td>\n",
       "      <td>217.3</td>\n",
       "      <td>948.2</td>\n",
       "      <td>833.6</td>\n",
       "      <td>534.4</td>\n",
       "      <td>136.8</td>\n",
       "      <td>469.5</td>\n",
       "      <td>138.7</td>\n",
       "      <td>22.0</td>\n",
       "    </tr>\n",
       "    <tr>\n",
       "      <th>67</th>\n",
       "      <td>1968</td>\n",
       "      <td>7.3</td>\n",
       "      <td>30.5</td>\n",
       "      <td>89.2</td>\n",
       "      <td>133.3</td>\n",
       "      <td>90.0</td>\n",
       "      <td>696.4</td>\n",
       "      <td>1308.9</td>\n",
       "      <td>380.7</td>\n",
       "      <td>325.4</td>\n",
       "      <td>178.9</td>\n",
       "      <td>119.4</td>\n",
       "      <td>32.7</td>\n",
       "    </tr>\n",
       "    <tr>\n",
       "      <th>77</th>\n",
       "      <td>1978</td>\n",
       "      <td>3.3</td>\n",
       "      <td>14.7</td>\n",
       "      <td>31.4</td>\n",
       "      <td>73.9</td>\n",
       "      <td>396.8</td>\n",
       "      <td>758.1</td>\n",
       "      <td>686.7</td>\n",
       "      <td>516.8</td>\n",
       "      <td>119.4</td>\n",
       "      <td>171.0</td>\n",
       "      <td>365.6</td>\n",
       "      <td>39.0</td>\n",
       "    </tr>\n",
       "    <tr>\n",
       "      <th>116</th>\n",
       "      <td>2017</td>\n",
       "      <td>1.9</td>\n",
       "      <td>6.8</td>\n",
       "      <td>8.9</td>\n",
       "      <td>43.6</td>\n",
       "      <td>173.5</td>\n",
       "      <td>498.5</td>\n",
       "      <td>319.6</td>\n",
       "      <td>531.8</td>\n",
       "      <td>209.5</td>\n",
       "      <td>192.4</td>\n",
       "      <td>92.5</td>\n",
       "      <td>38.1</td>\n",
       "    </tr>\n",
       "    <tr>\n",
       "      <th>9</th>\n",
       "      <td>1910</td>\n",
       "      <td>2.7</td>\n",
       "      <td>25.7</td>\n",
       "      <td>23.3</td>\n",
       "      <td>124.5</td>\n",
       "      <td>148.8</td>\n",
       "      <td>680.0</td>\n",
       "      <td>484.1</td>\n",
       "      <td>473.8</td>\n",
       "      <td>248.6</td>\n",
       "      <td>356.6</td>\n",
       "      <td>280.4</td>\n",
       "      <td>0.1</td>\n",
       "    </tr>\n",
       "    <tr>\n",
       "      <th>94</th>\n",
       "      <td>1995</td>\n",
       "      <td>10.3</td>\n",
       "      <td>6.5</td>\n",
       "      <td>37.3</td>\n",
       "      <td>134.9</td>\n",
       "      <td>355.6</td>\n",
       "      <td>493.4</td>\n",
       "      <td>702.5</td>\n",
       "      <td>457.3</td>\n",
       "      <td>280.0</td>\n",
       "      <td>198.3</td>\n",
       "      <td>182.6</td>\n",
       "      <td>0.1</td>\n",
       "    </tr>\n",
       "    <tr>\n",
       "      <th>25</th>\n",
       "      <td>1926</td>\n",
       "      <td>28.6</td>\n",
       "      <td>5.8</td>\n",
       "      <td>23.1</td>\n",
       "      <td>55.8</td>\n",
       "      <td>222.6</td>\n",
       "      <td>563.9</td>\n",
       "      <td>885.2</td>\n",
       "      <td>536.0</td>\n",
       "      <td>322.7</td>\n",
       "      <td>216.7</td>\n",
       "      <td>88.8</td>\n",
       "      <td>16.2</td>\n",
       "    </tr>\n",
       "    <tr>\n",
       "      <th>1</th>\n",
       "      <td>1902</td>\n",
       "      <td>6.7</td>\n",
       "      <td>2.6</td>\n",
       "      <td>57.3</td>\n",
       "      <td>83.9</td>\n",
       "      <td>134.5</td>\n",
       "      <td>390.9</td>\n",
       "      <td>1205.0</td>\n",
       "      <td>315.8</td>\n",
       "      <td>491.6</td>\n",
       "      <td>358.4</td>\n",
       "      <td>158.3</td>\n",
       "      <td>121.5</td>\n",
       "    </tr>\n",
       "    <tr>\n",
       "      <th>89</th>\n",
       "      <td>1990</td>\n",
       "      <td>14.9</td>\n",
       "      <td>4.8</td>\n",
       "      <td>18.0</td>\n",
       "      <td>41.8</td>\n",
       "      <td>488.5</td>\n",
       "      <td>528.6</td>\n",
       "      <td>635.4</td>\n",
       "      <td>370.8</td>\n",
       "      <td>103.3</td>\n",
       "      <td>323.2</td>\n",
       "      <td>158.8</td>\n",
       "      <td>5.2</td>\n",
       "    </tr>\n",
       "    <tr>\n",
       "      <th>21</th>\n",
       "      <td>1922</td>\n",
       "      <td>30.5</td>\n",
       "      <td>21.4</td>\n",
       "      <td>16.3</td>\n",
       "      <td>89.6</td>\n",
       "      <td>293.6</td>\n",
       "      <td>663.1</td>\n",
       "      <td>1025.1</td>\n",
       "      <td>320.6</td>\n",
       "      <td>222.4</td>\n",
       "      <td>266.3</td>\n",
       "      <td>293.7</td>\n",
       "      <td>25.1</td>\n",
       "    </tr>\n",
       "    <tr>\n",
       "      <th>95</th>\n",
       "      <td>1996</td>\n",
       "      <td>2.8</td>\n",
       "      <td>9.1</td>\n",
       "      <td>14.4</td>\n",
       "      <td>124.3</td>\n",
       "      <td>74.3</td>\n",
       "      <td>572.4</td>\n",
       "      <td>696.0</td>\n",
       "      <td>327.4</td>\n",
       "      <td>342.7</td>\n",
       "      <td>294.1</td>\n",
       "      <td>89.9</td>\n",
       "      <td>62.5</td>\n",
       "    </tr>\n",
       "    <tr>\n",
       "      <th>4</th>\n",
       "      <td>1905</td>\n",
       "      <td>1.2</td>\n",
       "      <td>22.3</td>\n",
       "      <td>9.4</td>\n",
       "      <td>105.9</td>\n",
       "      <td>263.3</td>\n",
       "      <td>850.2</td>\n",
       "      <td>520.5</td>\n",
       "      <td>293.6</td>\n",
       "      <td>217.2</td>\n",
       "      <td>383.5</td>\n",
       "      <td>74.4</td>\n",
       "      <td>0.2</td>\n",
       "    </tr>\n",
       "  </tbody>\n",
       "</table>\n",
       "</div>"
      ],
      "text/plain": [
       "     YEAR   JAN   FEB   MAR    APR    MAY    JUN     JUL    AUG    SEP    OCT  \\\n",
       "115  2016   2.4   3.8  35.9  143.0  186.4  522.2   412.3  325.5  173.2  225.9   \n",
       "46   1947  22.2  27.3  98.0  142.2   85.7  556.1   669.3  739.6  394.5  183.7   \n",
       "97   1998   6.0   2.1   8.1   61.1  151.6  732.5   641.4  371.8  517.6  444.8   \n",
       "100  2001  16.5  28.3   7.0  238.0  238.6  715.3   598.5  361.3  216.8  319.6   \n",
       "78   1979   2.4  30.0  11.7   42.0  127.7  582.9   662.2  383.7  211.7  163.8   \n",
       "41   1942   2.4   4.7  23.2  180.3  191.9  813.6   828.8  329.3   99.8  374.4   \n",
       "71   1972   2.6   7.5   2.5   87.5  436.0  401.8   714.4  294.9  185.7  351.5   \n",
       "19   1920  35.2   5.5  24.1  172.0   87.7  964.3   940.8  235.0  178.0  350.1   \n",
       "11   1912   1.9  15.0  11.2  122.7  217.3  948.2   833.6  534.4  136.8  469.5   \n",
       "67   1968   7.3  30.5  89.2  133.3   90.0  696.4  1308.9  380.7  325.4  178.9   \n",
       "77   1978   3.3  14.7  31.4   73.9  396.8  758.1   686.7  516.8  119.4  171.0   \n",
       "116  2017   1.9   6.8   8.9   43.6  173.5  498.5   319.6  531.8  209.5  192.4   \n",
       "9    1910   2.7  25.7  23.3  124.5  148.8  680.0   484.1  473.8  248.6  356.6   \n",
       "94   1995  10.3   6.5  37.3  134.9  355.6  493.4   702.5  457.3  280.0  198.3   \n",
       "25   1926  28.6   5.8  23.1   55.8  222.6  563.9   885.2  536.0  322.7  216.7   \n",
       "1    1902   6.7   2.6  57.3   83.9  134.5  390.9  1205.0  315.8  491.6  358.4   \n",
       "89   1990  14.9   4.8  18.0   41.8  488.5  528.6   635.4  370.8  103.3  323.2   \n",
       "21   1922  30.5  21.4  16.3   89.6  293.6  663.1  1025.1  320.6  222.4  266.3   \n",
       "95   1996   2.8   9.1  14.4  124.3   74.3  572.4   696.0  327.4  342.7  294.1   \n",
       "4    1905   1.2  22.3   9.4  105.9  263.3  850.2   520.5  293.6  217.2  383.5   \n",
       "\n",
       "       NOV    DEC  \n",
       "115  125.4   23.6  \n",
       "46    32.4   47.0  \n",
       "97   135.0   79.4  \n",
       "100  181.0   10.1  \n",
       "78   261.7   23.3  \n",
       "41    84.7  117.9  \n",
       "71   140.5  114.3  \n",
       "19   302.3    8.2  \n",
       "11   138.7   22.0  \n",
       "67   119.4   32.7  \n",
       "77   365.6   39.0  \n",
       "116   92.5   38.1  \n",
       "9    280.4    0.1  \n",
       "94   182.6    0.1  \n",
       "25    88.8   16.2  \n",
       "1    158.3  121.5  \n",
       "89   158.8    5.2  \n",
       "21   293.7   25.1  \n",
       "95    89.9   62.5  \n",
       "4     74.4    0.2  "
      ]
     },
     "execution_count": 14,
     "metadata": {},
     "output_type": "execute_result"
    }
   ],
   "source": [
    "x_train.head(20)"
   ]
  },
  {
   "cell_type": "code",
   "execution_count": 15,
   "metadata": {},
   "outputs": [
    {
     "data": {
      "text/plain": [
       "115    0\n",
       "46     1\n",
       "97     1\n",
       "100    0\n",
       "78     0\n",
       "41     1\n",
       "71     0\n",
       "19     1\n",
       "11     1\n",
       "67     1\n",
       "77     1\n",
       "116    0\n",
       "9      0\n",
       "94     0\n",
       "25     1\n",
       "1      1\n",
       "89     0\n",
       "21     1\n",
       "95     0\n",
       "4      0\n",
       "Name: FLOODS, dtype: int64"
      ]
     },
     "execution_count": 15,
     "metadata": {},
     "output_type": "execute_result"
    }
   ],
   "source": [
    "y_train.head(20)"
   ]
  },
  {
   "cell_type": "markdown",
   "metadata": {},
   "source": [
    "The K-Nearest Neighbors (KNN) classifier is a simple, yet effective, machine learning algorithm used for classification tasks. The basic idea of KNN is to classify a new data point based on the majority class of its 'k' nearest neighbors in the feature space.\n",
    "\n",
    "\n",
    "How KNN Works\n",
    "Choose the number of neighbors (k):\n",
    " The first step in the KNN algorithm is to choose the number of neighbors, k, that will be considered when making the classification decision.\n",
    "\n",
    "Compute distances:\n",
    " For a given data point that needs to be classified, the algorithm computes the distance between this point and all other points in the training dataset. Common distance metrics include Euclidean, Manhattan, and Minkowski distances.\n",
    "\n",
    "Identify the nearest neighbors: \n",
    "Once the distances are computed, the algorithm identifies the k data points in the training set that are closest to the data point to be classified.\n",
    "\n",
    "Majority voting: \n",
    "The KNN algorithm then assigns the most common class (i.e., majority vote) among the k nearest neighbors to the data point being classified.\n",
    "\n",
    "Prediction:\n",
    " The algorithm predicts the class label for the new data point based on the majority class among its neighbors."
   ]
  },
  {
   "cell_type": "code",
   "execution_count": 16,
   "metadata": {},
   "outputs": [],
   "source": [
    "clf = neighbors.KNeighborsClassifier()\n",
    "knn_clf = clf.fit(x_train,y_train)"
   ]
  },
  {
   "cell_type": "code",
   "execution_count": 17,
   "metadata": {},
   "outputs": [
    {
     "name": "stdout",
     "output_type": "stream",
     "text": [
      "predicted chances of flood\n",
      "[0 0 0 0 0 0 1 0 1 1 1 0 0 1 1 0 1 1 0 0 1 0 1 0]\n"
     ]
    }
   ],
   "source": [
    "#Let's predict chances of flood\n",
    "y_predict = knn_clf.predict(x_test)\n",
    "print('Pridiction of No fault')\n",
    "print(y_predict)"
   ]
  },
  {
   "cell_type": "code",
   "execution_count": 18,
   "metadata": {},
   "outputs": [
    {
     "name": "stdout",
     "output_type": "stream",
     "text": [
      "actual values of floods:\n",
      "18     1\n",
      "29     1\n",
      "98     0\n",
      "84     0\n",
      "107    0\n",
      "87     0\n",
      "30     1\n",
      "109    1\n",
      "70     1\n",
      "59     1\n",
      "23     1\n",
      "31     1\n",
      "27     0\n",
      "35     1\n",
      "60     1\n",
      "61     1\n",
      "2      1\n",
      "49     1\n",
      "20     0\n",
      "54     1\n",
      "8      1\n",
      "103    0\n",
      "26     1\n",
      "53     1\n",
      "Name: FLOODS, dtype: int64\n"
     ]
    }
   ],
   "source": [
    "#Actual chances of flood\n",
    "print(\"actual values of floods:\")\n",
    "print(y_test)"
   ]
  },
  {
   "cell_type": "code",
   "execution_count": 19,
   "metadata": {},
   "outputs": [],
   "source": [
    "from sklearn.model_selection import cross_val_score"
   ]
  },
  {
   "cell_type": "code",
   "execution_count": 20,
   "metadata": {},
   "outputs": [],
   "source": [
    "# checkind accuracy\n",
    "knn_accuracy = cross_val_score(knn_clf,x_test,y_test,cv=3,scoring='accuracy',n_jobs=-1)"
   ]
  },
  {
   "cell_type": "code",
   "execution_count": 21,
   "metadata": {},
   "outputs": [
    {
     "data": {
      "text/plain": [
       "0.7083333333333334"
      ]
     },
     "execution_count": 21,
     "metadata": {},
     "output_type": "execute_result"
    }
   ],
   "source": [
    "knn_accuracy.mean()"
   ]
  },
  {
   "cell_type": "markdown",
   "metadata": {},
   "source": [
    "Logistic regression\n",
    "\n",
    "Logistic regression is a foundational classification technique that balances simplicity and effectiveness. It is best suited for problems where the relationship between the independent variables and the outcome is approximately linear and the outcome is binary. With proper"
   ]
  },
  {
   "cell_type": "code",
   "execution_count": 22,
   "metadata": {},
   "outputs": [],
   "source": [
    "x_train_std = minmax.fit_transform(x_train)\n",
    "x_test_std = minmax.transform(x_test)"
   ]
  },
  {
   "cell_type": "code",
   "execution_count": 23,
   "metadata": {},
   "outputs": [],
   "source": [
    "from sklearn.model_selection import cross_val_score\n",
    "from sklearn.linear_model import LogisticRegression\n",
    "\n",
    "lr = LogisticRegression()\n",
    "lr_clf = lr.fit(x_train_std,y_train)\n",
    "\n",
    "lr_accuracy = cross_val_score(lr_clf,x_test_std,y_test,cv=3,scoring='accuracy',n_jobs=-1)"
   ]
  },
  {
   "cell_type": "code",
   "execution_count": 24,
   "metadata": {},
   "outputs": [
    {
     "data": {
      "text/plain": [
       "0.7083333333333334"
      ]
     },
     "execution_count": 24,
     "metadata": {},
     "output_type": "execute_result"
    }
   ],
   "source": [
    "lr_accuracy.mean()"
   ]
  },
  {
   "cell_type": "code",
   "execution_count": 25,
   "metadata": {},
   "outputs": [
    {
     "name": "stdout",
     "output_type": "stream",
     "text": [
      "Predicted chances of flood\n",
      "[1 1 0 0 0 0 1 1 1 1 1 1 0 1 1 0 1 1 0 1 1 0 1 0]\n"
     ]
    }
   ],
   "source": [
    "y_predict = lr_clf.predict(x_test_std)\n",
    "print('Predicted chances of flood')\n",
    "print(y_predict)"
   ]
  },
  {
   "cell_type": "code",
   "execution_count": 26,
   "metadata": {},
   "outputs": [
    {
     "name": "stdout",
     "output_type": "stream",
     "text": [
      "Actual chances of flood\n",
      "[1 1 0 0 0 0 1 1 1 1 1 1 0 1 1 1 1 1 0 1 1 0 1 1]\n"
     ]
    }
   ],
   "source": [
    "print('Actual chances of flood')\n",
    "print(y_test.values)"
   ]
  },
  {
   "cell_type": "code",
   "execution_count": 27,
   "metadata": {},
   "outputs": [
    {
     "name": "stdout",
     "output_type": "stream",
     "text": [
      "\n",
      "accuracy score: 91.666667\n",
      "recall score: 88.235294\n",
      "roc score: 94.117647\n"
     ]
    }
   ],
   "source": [
    "from sklearn.metrics import accuracy_score,recall_score,roc_auc_score,confusion_matrix\n",
    "print(\"\\naccuracy score: %f\"%(accuracy_score(y_test,y_predict)*100))\n",
    "print(\"recall score: %f\"%(recall_score(y_test,y_predict)*100))\n",
    "print(\"roc score: %f\"%(roc_auc_score(y_test,y_predict)*100))"
   ]
  },
  {
   "cell_type": "markdown",
   "metadata": {},
   "source": [
    "Decision tree classification"
   ]
  },
  {
   "cell_type": "code",
   "execution_count": 28,
   "metadata": {},
   "outputs": [
    {
     "data": {
      "text/plain": [
       "array([0.65625   , 0.70967742, 0.77419355])"
      ]
     },
     "execution_count": 28,
     "metadata": {},
     "output_type": "execute_result"
    }
   ],
   "source": [
    "from sklearn.tree import DecisionTreeClassifier\n",
    "dtc_clf = DecisionTreeClassifier()\n",
    "dtc_clf.fit(x_train,y_train)\n",
    "dtc_clf_acc = cross_val_score(dtc_clf,x_train_std,y_train,cv=3,scoring=\"accuracy\",n_jobs=-1)\n",
    "dtc_clf_acc"
   ]
  },
  {
   "cell_type": "code",
   "execution_count": 29,
   "metadata": {},
   "outputs": [
    {
     "name": "stdout",
     "output_type": "stream",
     "text": [
      "[0 0 0 0 0 0 1 0 1 1 1 0 0 0 1 0 0 1 0 0 1 0 1 1]\n"
     ]
    }
   ],
   "source": [
    "#Predicted flood chances\n",
    "y_pred = dtc_clf.predict(x_test)\n",
    "print(y_pred)"
   ]
  },
  {
   "cell_type": "code",
   "execution_count": 30,
   "metadata": {},
   "outputs": [
    {
     "name": "stdout",
     "output_type": "stream",
     "text": [
      "actual values:\n",
      "[1 1 0 0 0 0 1 1 1 1 1 1 0 1 1 1 1 1 0 1 1 0 1 1]\n"
     ]
    }
   ],
   "source": [
    "#Actual flood chances\n",
    "print(\"actual values:\")\n",
    "print(y_test.values)"
   ]
  },
  {
   "cell_type": "code",
   "execution_count": 31,
   "metadata": {},
   "outputs": [
    {
     "name": "stdout",
     "output_type": "stream",
     "text": [
      "\n",
      "accuracy score:66.666667\n",
      "recall score:52.941176\n",
      "roc score:76.470588\n"
     ]
    }
   ],
   "source": [
    "from sklearn.metrics import accuracy_score,recall_score,roc_auc_score,confusion_matrix\n",
    "print(\"\\naccuracy score:%f\"%(accuracy_score(y_test,y_pred)*100))\n",
    "print(\"recall score:%f\"%(recall_score(y_test,y_pred)*100))\n",
    "print(\"roc score:%f\"%(roc_auc_score(y_test,y_pred)*100))"
   ]
  },
  {
   "cell_type": "markdown",
   "metadata": {},
   "source": [
    "Random Forest Classification"
   ]
  },
  {
   "cell_type": "code",
   "execution_count": 32,
   "metadata": {},
   "outputs": [
    {
     "data": {
      "text/html": [
       "<style>#sk-container-id-1 {color: black;background-color: white;}#sk-container-id-1 pre{padding: 0;}#sk-container-id-1 div.sk-toggleable {background-color: white;}#sk-container-id-1 label.sk-toggleable__label {cursor: pointer;display: block;width: 100%;margin-bottom: 0;padding: 0.3em;box-sizing: border-box;text-align: center;}#sk-container-id-1 label.sk-toggleable__label-arrow:before {content: \"▸\";float: left;margin-right: 0.25em;color: #696969;}#sk-container-id-1 label.sk-toggleable__label-arrow:hover:before {color: black;}#sk-container-id-1 div.sk-estimator:hover label.sk-toggleable__label-arrow:before {color: black;}#sk-container-id-1 div.sk-toggleable__content {max-height: 0;max-width: 0;overflow: hidden;text-align: left;background-color: #f0f8ff;}#sk-container-id-1 div.sk-toggleable__content pre {margin: 0.2em;color: black;border-radius: 0.25em;background-color: #f0f8ff;}#sk-container-id-1 input.sk-toggleable__control:checked~div.sk-toggleable__content {max-height: 200px;max-width: 100%;overflow: auto;}#sk-container-id-1 input.sk-toggleable__control:checked~label.sk-toggleable__label-arrow:before {content: \"▾\";}#sk-container-id-1 div.sk-estimator input.sk-toggleable__control:checked~label.sk-toggleable__label {background-color: #d4ebff;}#sk-container-id-1 div.sk-label input.sk-toggleable__control:checked~label.sk-toggleable__label {background-color: #d4ebff;}#sk-container-id-1 input.sk-hidden--visually {border: 0;clip: rect(1px 1px 1px 1px);clip: rect(1px, 1px, 1px, 1px);height: 1px;margin: -1px;overflow: hidden;padding: 0;position: absolute;width: 1px;}#sk-container-id-1 div.sk-estimator {font-family: monospace;background-color: #f0f8ff;border: 1px dotted black;border-radius: 0.25em;box-sizing: border-box;margin-bottom: 0.5em;}#sk-container-id-1 div.sk-estimator:hover {background-color: #d4ebff;}#sk-container-id-1 div.sk-parallel-item::after {content: \"\";width: 100%;border-bottom: 1px solid gray;flex-grow: 1;}#sk-container-id-1 div.sk-label:hover label.sk-toggleable__label {background-color: #d4ebff;}#sk-container-id-1 div.sk-serial::before {content: \"\";position: absolute;border-left: 1px solid gray;box-sizing: border-box;top: 0;bottom: 0;left: 50%;z-index: 0;}#sk-container-id-1 div.sk-serial {display: flex;flex-direction: column;align-items: center;background-color: white;padding-right: 0.2em;padding-left: 0.2em;position: relative;}#sk-container-id-1 div.sk-item {position: relative;z-index: 1;}#sk-container-id-1 div.sk-parallel {display: flex;align-items: stretch;justify-content: center;background-color: white;position: relative;}#sk-container-id-1 div.sk-item::before, #sk-container-id-1 div.sk-parallel-item::before {content: \"\";position: absolute;border-left: 1px solid gray;box-sizing: border-box;top: 0;bottom: 0;left: 50%;z-index: -1;}#sk-container-id-1 div.sk-parallel-item {display: flex;flex-direction: column;z-index: 1;position: relative;background-color: white;}#sk-container-id-1 div.sk-parallel-item:first-child::after {align-self: flex-end;width: 50%;}#sk-container-id-1 div.sk-parallel-item:last-child::after {align-self: flex-start;width: 50%;}#sk-container-id-1 div.sk-parallel-item:only-child::after {width: 0;}#sk-container-id-1 div.sk-dashed-wrapped {border: 1px dashed gray;margin: 0 0.4em 0.5em 0.4em;box-sizing: border-box;padding-bottom: 0.4em;background-color: white;}#sk-container-id-1 div.sk-label label {font-family: monospace;font-weight: bold;display: inline-block;line-height: 1.2em;}#sk-container-id-1 div.sk-label-container {text-align: center;}#sk-container-id-1 div.sk-container {/* jupyter's `normalize.less` sets `[hidden] { display: none; }` but bootstrap.min.css set `[hidden] { display: none !important; }` so we also need the `!important` here to be able to override the default hidden behavior on the sphinx rendered scikit-learn.org. See: https://github.com/scikit-learn/scikit-learn/issues/21755 */display: inline-block !important;position: relative;}#sk-container-id-1 div.sk-text-repr-fallback {display: none;}</style><div id=\"sk-container-id-1\" class=\"sk-top-container\"><div class=\"sk-text-repr-fallback\"><pre>RandomForestClassifier(max_depth=3, random_state=0)</pre><b>In a Jupyter environment, please rerun this cell to show the HTML representation or trust the notebook. <br />On GitHub, the HTML representation is unable to render, please try loading this page with nbviewer.org.</b></div><div class=\"sk-container\" hidden><div class=\"sk-item\"><div class=\"sk-estimator sk-toggleable\"><input class=\"sk-toggleable__control sk-hidden--visually\" id=\"sk-estimator-id-1\" type=\"checkbox\" checked><label for=\"sk-estimator-id-1\" class=\"sk-toggleable__label sk-toggleable__label-arrow\">RandomForestClassifier</label><div class=\"sk-toggleable__content\"><pre>RandomForestClassifier(max_depth=3, random_state=0)</pre></div></div></div></div></div>"
      ],
      "text/plain": [
       "RandomForestClassifier(max_depth=3, random_state=0)"
      ]
     },
     "execution_count": 32,
     "metadata": {},
     "output_type": "execute_result"
    }
   ],
   "source": [
    "from sklearn.ensemble import RandomForestClassifier\n",
    "rmf = RandomForestClassifier(max_depth=3,random_state=0)\n",
    "rmf_clf = rmf.fit(x_train,y_train)\n",
    "rmf_clf"
   ]
  },
  {
   "cell_type": "code",
   "execution_count": 33,
   "metadata": {},
   "outputs": [],
   "source": [
    "rmf_clf_acc = cross_val_score(rmf_clf,x_train_std,y_train,cv=3,scoring=\"accuracy\",n_jobs=-1)\n",
    "#rmf_proba = cross_val_predict(rmf_clf,x_train_std,y_train,cv=3,method='predict_proba')"
   ]
  },
  {
   "cell_type": "code",
   "execution_count": 34,
   "metadata": {},
   "outputs": [
    {
     "data": {
      "text/plain": [
       "array([0.78125   , 0.77419355, 0.83870968])"
      ]
     },
     "execution_count": 34,
     "metadata": {},
     "output_type": "execute_result"
    }
   ],
   "source": [
    "\n",
    "rmf_clf_acc\n",
    "\n"
   ]
  },
  {
   "cell_type": "code",
   "execution_count": 35,
   "metadata": {},
   "outputs": [],
   "source": [
    "y_pred = rmf_clf.predict(x_test)"
   ]
  },
  {
   "cell_type": "code",
   "execution_count": 36,
   "metadata": {},
   "outputs": [
    {
     "name": "stdout",
     "output_type": "stream",
     "text": [
      "\n",
      "accuracy score:79.166667\n",
      "recall score:70.588235\n",
      "roc score:85.294118\n"
     ]
    }
   ],
   "source": [
    "from sklearn.metrics import accuracy_score,recall_score,roc_auc_score,confusion_matrix\n",
    "print(\"\\naccuracy score:%f\"%(accuracy_score(y_test,y_pred)*100))\n",
    "print(\"recall score:%f\"%(recall_score(y_test,y_pred)*100))\n",
    "print(\"roc score:%f\"%(roc_auc_score(y_test,y_pred)*100))"
   ]
  },
  {
   "cell_type": "markdown",
   "metadata": {},
   "source": [
    " Enseble Learning"
   ]
  },
  {
   "cell_type": "code",
   "execution_count": 37,
   "metadata": {},
   "outputs": [],
   "source": [
    "from sklearn.ensemble import VotingClassifier\n",
    "from sklearn.ensemble import RandomForestClassifier\n",
    "from sklearn.linear_model import LogisticRegression\n",
    "from sklearn.neighbors import KNeighborsClassifier\n",
    "\n",
    "log_clf = LogisticRegression(solver=\"liblinear\", random_state=42)\n",
    "rnd_clf = RandomForestClassifier(n_estimators=10, random_state=42)\n",
    "knn_clf = KNeighborsClassifier()\n",
    "\n",
    "voting = VotingClassifier(\n",
    "    estimators=[('lr', log_clf), ('rf', rnd_clf), ('knn', knn_clf)],\n",
    "    voting='hard')"
   ]
  },
  {
   "cell_type": "code",
   "execution_count": 38,
   "metadata": {},
   "outputs": [],
   "source": [
    "voting_clf = voting.fit(x_train, y_train)"
   ]
  },
  {
   "cell_type": "code",
   "execution_count": 39,
   "metadata": {},
   "outputs": [
    {
     "name": "stdout",
     "output_type": "stream",
     "text": [
      "LogisticRegression 0.9583333333333334\n",
      "RandomForestClassifier 0.7083333333333334\n",
      "KNeighborsClassifier 0.7083333333333334\n",
      "VotingClassifier 0.75\n"
     ]
    }
   ],
   "source": [
    "from sklearn.metrics import accuracy_score\n",
    "\n",
    "for clf in (log_clf, rnd_clf, knn_clf, voting_clf):\n",
    "    clf.fit(x_train, y_train)\n",
    "    y_pred = clf.predict(x_test)\n",
    "    print(clf.__class__.__name__, accuracy_score(y_test, y_pred))"
   ]
  },
  {
   "cell_type": "markdown",
   "metadata": {},
   "source": []
  },
  {
   "cell_type": "code",
   "execution_count": 40,
   "metadata": {},
   "outputs": [
    {
     "name": "stdout",
     "output_type": "stream",
     "text": [
      "  Name     Score\n",
      "0  KNN  0.708333\n",
      "1   LR  0.958333\n",
      "2   DT  0.666667\n",
      "3   RF  0.791667\n",
      "4   EL  0.750000\n"
     ]
    },
    {
     "name": "stderr",
     "output_type": "stream",
     "text": [
      "d:\\Anaconda\\Lib\\site-packages\\sklearn\\linear_model\\_logistic.py:458: ConvergenceWarning: lbfgs failed to converge (status=1):\n",
      "STOP: TOTAL NO. of ITERATIONS REACHED LIMIT.\n",
      "\n",
      "Increase the number of iterations (max_iter) or scale the data as shown in:\n",
      "    https://scikit-learn.org/stable/modules/preprocessing.html\n",
      "Please also refer to the documentation for alternative solver options:\n",
      "    https://scikit-learn.org/stable/modules/linear_model.html#logistic-regression\n",
      "  n_iter_i = _check_optimize_result(\n"
     ]
    }
   ],
   "source": [
    "models = []\n",
    "from sklearn.neighbors import KNeighborsClassifier\n",
    "from sklearn.linear_model import LogisticRegression\n",
    "from sklearn.tree import DecisionTreeClassifier\n",
    "from sklearn.svm import SVC\n",
    "from sklearn.ensemble import RandomForestClassifier\n",
    "from sklearn.ensemble import VotingClassifier\n",
    "models.append(('KNN', KNeighborsClassifier()))\n",
    "models.append(('LR', LogisticRegression()))\n",
    "models.append(('DT', DecisionTreeClassifier()))\n",
    "models.append(('RF', RandomForestClassifier()))\n",
    "models.append(('EL', VotingClassifier(\n",
    "    estimators=[('lr', log_clf), ('rf', rnd_clf), ('knn', knn_clf)],\n",
    "    voting='hard')))\n",
    "\n",
    "\n",
    "names = []\n",
    "scores = []\n",
    "for name, model in models:\n",
    "    model.fit(x_train, y_train)\n",
    "    y_pred = model.predict(x_test)\n",
    "    scores.append(accuracy_score(y_test, y_pred))\n",
    "    names.append(name)\n",
    "tr_split = pd.DataFrame({'Name': names, 'Score': scores})\n",
    "print(tr_split)"
   ]
  },
  {
   "cell_type": "code",
   "execution_count": 41,
   "metadata": {},
   "outputs": [
    {
     "data": {
      "image/png": "[encoded data removed]",
      "text/plain": [
       "<Figure size 640x480 with 1 Axes>"
      ]
     },
     "metadata": {},
     "output_type": "display_data"
    }
   ],
   "source": [
    "import seaborn as sns\n",
    "axis = sns.barplot(x = 'Name', y = 'Score', data =tr_split )\n",
    "axis.set(xlabel='Classifier', ylabel='Accuracy')\n",
    "for p in axis.patches:\n",
    "    height = p.get_height()\n",
    "    axis.text(p.get_x() + p.get_width()/2, height + 0.005, '{:1.4f}'.format(height), ha=\"center\") \n",
    "    \n",
    "plt.show()"
   ]
  }
 ],
 "metadata": {
  "kernelspec": {
   "display_name": "base",
   "language": "python",
   "name": "python3"
  },
  "language_info": {
   "codemirror_mode": {
    "name": "ipython",
    "version": 3
   },
   "file_extension": ".py",
   "mimetype": "text/x-python",
   "name": "python",
   "nbconvert_exporter": "python",
   "pygments_lexer": "ipython3",
   "version": "3.11.7"
  }
 },
 "nbformat": 4,
 "nbformat_minor": 2
}
