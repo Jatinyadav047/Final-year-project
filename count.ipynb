{
 "cells": [
  {
   "cell_type": "code",
   "execution_count": 1,
   "metadata": {},
   "outputs": [
    {
     "name": "stdout",
     "output_type": "stream",
     "text": [
      "Frequency of values in 'Final Cluster Mapping for Technical Assessment':\n",
      "Final Cluster Mapping for Technical Assessment\n",
      "Skill Cluster 2: Python ANSI SQL Cloud Fundamentals    408\n",
      "Skill Cluster 1: Java ANSI SQL HTML CSS JavaScript     313\n",
      "Skill Cluster 3: C# ANSI SQL HTML CSS Javascript        19\n",
      "Name: count, dtype: int64\n",
      "\n",
      "Frequency of values in 'Course':\n",
      "Course\n",
      "Computer Science & Engineering                                   271\n",
      "Computer Science                                                 161\n",
      "Information Technology                                           122\n",
      "Electronics & Communication Engineering                           60\n",
      "CSE (AI AND MACHINE LEARNING)                                     40\n",
      "CSE (DATA SCIENCE)                                                31\n",
      "Electrical & Electronics Engineering                              15\n",
      "AI & MACHINE LEARNING                                             13\n",
      "IT                                                                 5\n",
      "Communication & Computer Science                                   5\n",
      "CSE (ARTIFICIAL INTELLIGENCE)                                      3\n",
      "Computer Engineering                                               3\n",
      "CSE (Data Science & Data Engineering)                              2\n",
      "AI ,Data Science                                                   1\n",
      "Electronics                                                        1\n",
      "Artificial Intelligence, Data Science                              1\n",
      "Electronics And Communication And Engineering (Data Science)       1\n",
      "CSE (DATA SCIENCE & MACHINE LEARNING)                              1\n",
      "CSE with Honors in Artificial?Intelligence & Machine Learning      1\n",
      "Data Science                                                       1\n",
      "Electronics and Telecommunication Engineering                      1\n",
      "Computer Science & Business Systems                                1\n",
      "Name: count, dtype: int64\n"
     ]
    }
   ],
   "source": [
    "import pandas as pd\n",
    "\n",
    "# Load the CSV file\n",
    "df = pd.read_csv('abc.csv')\n",
    "\n",
    "# Count frequency of unique values in \"Final Cluster Mapping for Technical Assessment\"\n",
    "final_cluster_counts = df['Final Cluster Mapping for Technical Assessment'].value_counts()\n",
    "\n",
    "# Count frequency of unique values in \"Course\"\n",
    "course_counts = df['Course'].value_counts()\n",
    "\n",
    "# Display the results\n",
    "print(\"Frequency of values in 'Final Cluster Mapping for Technical Assessment':\")\n",
    "print(final_cluster_counts)\n",
    "print(\"\\nFrequency of values in 'Course':\")\n",
    "print(course_counts)\n"
   ]
  }
 ],
 "metadata": {
  "kernelspec": {
   "display_name": "Python 3",
   "language": "python",
   "name": "python3"
  },
  "language_info": {
   "codemirror_mode": {
    "name": "ipython",
    "version": 3
   },
   "file_extension": ".py",
   "mimetype": "text/x-python",
   "name": "python",
   "nbconvert_exporter": "python",
   "pygments_lexer": "ipython3",
   "version": "3.12.5"
  }
 },
 "nbformat": 4,
 "nbformat_minor": 2
}
