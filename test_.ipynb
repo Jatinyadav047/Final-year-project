{
 "cells": [
  {
   "cell_type": "code",
   "execution_count": 1,
   "metadata": {},
   "outputs": [
    {
     "name": "stdout",
     "output_type": "stream",
     "text": [
      "Predicted labels: ['F0L' 'F0L' 'F0L' 'F0L' 'F0L' 'F0L' 'F0L' 'F0L' 'F0L' 'F0L' 'F0L' 'F0L'\n",
      " 'F0L' 'F0L' 'F0L' 'F0L' 'F0L' 'F0L' 'F0L' 'F0L' 'F0L' 'F0L' 'F0L' 'F0L'\n",
      " 'F0L' 'F0L' 'F0L' 'F0L' 'F0L' 'F0L' 'F0L' 'F0L' 'F0L' 'F0L' 'F0L' 'F0L'\n",
      " 'F0L' 'F0L' 'F0L' 'F0L' 'F0L' 'F0L' 'F0L' 'F0L' 'F0L' 'F0L' 'F0L' 'F0L'\n",
      " 'F0L' 'F0L' 'F0L' 'F0L' 'F0L' 'F0L' 'F0L' 'F0L' 'F0L' 'F0L' 'F0L' 'F0L'\n",
      " 'F0L' 'F0L' 'F0L' 'F0L' 'F0L' 'F0L' 'F0L' 'F0L' 'F0L' 'F0L' 'F0L' 'F0L'\n",
      " 'F0L' 'F0L' 'F0L' 'F0L' 'F0L' 'F0L' 'F0L' 'F0L' 'F0L' 'F0L' 'F0L' 'F0L'\n",
      " 'F0L' 'F0L' 'F0L' 'F0L' 'F0L' 'F0L' 'F0L' 'F0L' 'F0L' 'F0L' 'F0L' 'F0L'\n",
      " 'F0L' 'F0L' 'F0L' 'F0L']\n",
      "Actual labels: ['F1L' 'F1L' 'F1L' 'F1L' 'F1L' 'F1L' 'F1L' 'F1L' 'F1L' 'F1L' 'F1L' 'F1L'\n",
      " 'F1L' 'F1L' 'F1L' 'F1L' 'F1L' 'F1L' 'F1L' 'F1L' 'F1L' 'F1L' 'F1L' 'F1L'\n",
      " 'F1L' 'F1L' 'F1L' 'F1L' 'F1L' 'F1L' 'F1L' 'F1L' 'F1L' 'F1L' 'F1L' 'F1L'\n",
      " 'F1L' 'F1L' 'F1L' 'F1L' 'F1L' 'F1L' 'F1L' 'F1L' 'F1L' 'F1L' 'F1L' 'F1L'\n",
      " 'F1L' 'F1L' 'F1L' 'F1L' 'F1L' 'F1L' 'F1L' 'F1L' 'F1L' 'F1L' 'F1L' 'F1L'\n",
      " 'F1L' 'F1L' 'F1L' 'F1L' 'F1L' 'F1L' 'F1L' 'F1L' 'F1L' 'F1L' 'F1L' 'F1L'\n",
      " 'F1L' 'F1L' 'F1L' 'F1L' 'F1L' 'F1L' 'F1L' 'F1L' 'F1L' 'F1L' 'F1L' 'F1L'\n",
      " 'F1L' 'F1L' 'F1L' 'F1L' 'F1L' 'F1L' 'F1L' 'F1L' 'F1L' 'F1L' 'F1L' 'F1L'\n",
      " 'F1L' 'F1L' 'F1L' 'F1L']\n",
      "Accuracy: 0.0\n",
      "\n",
      "Classification Report:\n",
      "              precision    recall  f1-score   support\n",
      "\n",
      "         F0L       0.00      0.00      0.00       0.0\n",
      "         F1L       0.00      0.00      0.00     100.0\n",
      "\n",
      "    accuracy                           0.00     100.0\n",
      "   macro avg       0.00      0.00      0.00     100.0\n",
      "weighted avg       0.00      0.00      0.00     100.0\n",
      "\n",
      "\n",
      "Confusion Matrix:\n",
      "[[  0   0]\n",
      " [100   0]]\n"
     ]
    },
    {
     "name": "stderr",
     "output_type": "stream",
     "text": [
      "d:\\Anaconda\\Lib\\site-packages\\sklearn\\metrics\\_classification.py:1344: UndefinedMetricWarning: Precision and F-score are ill-defined and being set to 0.0 in labels with no predicted samples. Use `zero_division` parameter to control this behavior.\n",
      "  _warn_prf(average, modifier, msg_start, len(result))\n",
      "d:\\Anaconda\\Lib\\site-packages\\sklearn\\metrics\\_classification.py:1344: UndefinedMetricWarning: Recall and F-score are ill-defined and being set to 0.0 in labels with no true samples. Use `zero_division` parameter to control this behavior.\n",
      "  _warn_prf(average, modifier, msg_start, len(result))\n",
      "d:\\Anaconda\\Lib\\site-packages\\sklearn\\metrics\\_classification.py:1344: UndefinedMetricWarning: Precision and F-score are ill-defined and being set to 0.0 in labels with no predicted samples. Use `zero_division` parameter to control this behavior.\n",
      "  _warn_prf(average, modifier, msg_start, len(result))\n",
      "d:\\Anaconda\\Lib\\site-packages\\sklearn\\metrics\\_classification.py:1344: UndefinedMetricWarning: Recall and F-score are ill-defined and being set to 0.0 in labels with no true samples. Use `zero_division` parameter to control this behavior.\n",
      "  _warn_prf(average, modifier, msg_start, len(result))\n",
      "d:\\Anaconda\\Lib\\site-packages\\sklearn\\metrics\\_classification.py:1344: UndefinedMetricWarning: Precision and F-score are ill-defined and being set to 0.0 in labels with no predicted samples. Use `zero_division` parameter to control this behavior.\n",
      "  _warn_prf(average, modifier, msg_start, len(result))\n",
      "d:\\Anaconda\\Lib\\site-packages\\sklearn\\metrics\\_classification.py:1344: UndefinedMetricWarning: Recall and F-score are ill-defined and being set to 0.0 in labels with no true samples. Use `zero_division` parameter to control this behavior.\n",
      "  _warn_prf(average, modifier, msg_start, len(result))\n"
     ]
    }
   ],
   "source": [
    "import pandas as pd\n",
    "from sklearn import preprocessing, neighbors\n",
    "from sklearn.model_selection import train_test_split, cross_val_score\n",
    "from sklearn.metrics import accuracy_score, classification_report, confusion_matrix\n",
    "\n",
    "# Step 1: Load the training data (F0L.csv)\n",
    "train_data = pd.read_csv('D:\\\\Final-year-project\\\\Csv\\\\F0L.csv')\n",
    "\n",
    "# Step 2: Load the test data (F1L.csv)\n",
    "test_data = pd.read_csv('D:\\\\Final-year-project\\\\Csv\\\\F1L.csv')\n",
    "\n",
    "# Step 3: Assign features (X) and target (Y) for training and testing\n",
    "# Training data: Features and Target (F0L)\n",
    "x_train = train_data.iloc[:, :14]\n",
    "y_train = train_data.iloc[:, -1]  # Should contain 'F0L'\n",
    "\n",
    "# Test data: Features and Target (F1L)\n",
    "x_test = test_data.iloc[:100, :14]  # First 100 rows for testing\n",
    "y_test = test_data.iloc[:100, -1]   # Should contain 'F1L'\n",
    "\n",
    "# Step 4: Normalize the feature data\n",
    "minmax = preprocessing.MinMaxScaler(feature_range=(0, 1))\n",
    "x_train = minmax.fit_transform(x_train)\n",
    "x_test = minmax.transform(x_test)\n",
    "\n",
    "# Step 5: Train the KNN model\n",
    "clf = neighbors.KNeighborsClassifier(n_neighbors=3)  # You can change the number of neighbors if needed\n",
    "knn_clf = clf.fit(x_train, y_train)\n",
    "\n",
    "# Step 6: Make predictions on the test data (F1L)\n",
    "y_predict = knn_clf.predict(x_test)\n",
    "\n",
    "# Step 7: Print predicted and actual values\n",
    "print('Predicted labels:', y_predict)\n",
    "print('Actual labels:', y_test.values)\n",
    "\n",
    "# Step 8: Calculate the accuracy\n",
    "accuracy = accuracy_score(y_test, y_predict)\n",
    "print(\"Accuracy:\", accuracy)\n",
    "\n",
    "# Step 9: Print classification report for detailed analysis\n",
    "print(\"\\nClassification Report:\")\n",
    "print(classification_report(y_test, y_predict))\n",
    "\n",
    "# Step 10: Print confusion matrix to visualize misclassifications\n",
    "print(\"\\nConfusion Matrix:\")\n",
    "print(confusion_matrix(y_test, y_predict))\n"
   ]
  }
 ],
 "metadata": {
  "kernelspec": {
   "display_name": "base",
   "language": "python",
   "name": "python3"
  },
  "language_info": {
   "codemirror_mode": {
    "name": "ipython",
    "version": 3
   },
   "file_extension": ".py",
   "mimetype": "text/x-python",
   "name": "python",
   "nbconvert_exporter": "python",
   "pygments_lexer": "ipython3",
   "version": "3.11.7"
  }
 },
 "nbformat": 4,
 "nbformat_minor": 2
}
