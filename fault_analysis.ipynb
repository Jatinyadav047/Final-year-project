{
 "cells": [
  {
   "cell_type": "code",
   "execution_count": 19,
   "metadata": {},
   "outputs": [],
   "source": [
    "import pandas as pd\n",
    "from sklearn import preprocessing, neighbors\n",
    "from sklearn.model_selection import train_test_split, cross_val_score\n",
    "from sklearn.metrics import accuracy_score, classification_report, confusion_matrix\n",
    "from sklearn.utils import shuffle"
   ]
  },
  {
   "cell_type": "code",
   "execution_count": 20,
   "metadata": {},
   "outputs": [],
   "source": [
    "train_data = pd.read_csv('D:\\\\Final-year-project\\\\Csv\\\\F0L.csv')\n",
    "\n",
    "# Step 2: Load the test data (F0L.csv and F1L.csv)\n",
    "f0_test_data = pd.read_csv('D:\\\\Final-year-project\\\\Csv\\\\F0L.csv')\n",
    "f1_test_data = pd.read_csv('D:\\\\Final-year-project\\\\Csv\\\\F1L.csv')\n",
    "\n",
    "# Step 3: Combine the test datasets (F0L and F1L)\n",
    "test_data = pd.concat([f0_test_data.iloc[:100], f1_test_data.iloc[:100]])  # Taking 100 rows from each\n",
    "test_data = shuffle(test_data)  # Shuffle the combined test data to mix F0 and F1\n",
    "\n",
    "# Assign features and target for training and testing\n",
    "x_train = train_data.iloc[:, :14]\n",
    "y_train = train_data.iloc[:, -1]  # This should be 'F0L'\n",
    "\n",
    "x_test = test_data.iloc[:100, :14]  # First 100 rows for testing\n",
    "y_test = test_data.iloc[:100, -1]   # This should be 'F1L'"
   ]
  },
  {
   "cell_type": "code",
   "execution_count": 21,
   "metadata": {},
   "outputs": [],
   "source": [
    "from sklearn import preprocessing\n",
    "\n",
    "# Normalize the training set\n",
    "minmax = preprocessing.MinMaxScaler(feature_range=(0,1))\n",
    "x_train = minmax.fit_transform(x_train)\n",
    "\n",
    "# Normalize the test set using the same scaler\n",
    "x_test = minmax.transform(x_test)\n"
   ]
  },
  {
   "cell_type": "code",
   "execution_count": 22,
   "metadata": {},
   "outputs": [
    {
     "name": "stdout",
     "output_type": "stream",
     "text": [
      "['F0L']\n",
      "['F0L' 'F1L']\n"
     ]
    }
   ],
   "source": [
    "# Check unique values in y_train (should only show 'F0L')\n",
    "print(y_train.unique())  \n",
    "\n",
    "# Check unique values in y_test (should only show 'F1L')\n",
    "print(y_test.unique())  \n"
   ]
  },
  {
   "cell_type": "code",
   "execution_count": 26,
   "metadata": {},
   "outputs": [
    {
     "name": "stdout",
     "output_type": "stream",
     "text": [
      "Predicted labels: ['F0L' 'F0L' 'F0L' 'F0L' 'F0L' 'F0L' 'F0L' 'F0L' 'F0L' 'F0L' 'F0L' 'F0L'\n",
      " 'F0L' 'F0L' 'F0L' 'F0L' 'F0L' 'F0L' 'F0L' 'F0L' 'F0L' 'F0L' 'F0L' 'F0L'\n",
      " 'F0L' 'F0L' 'F0L' 'F0L' 'F0L' 'F0L' 'F0L' 'F0L' 'F0L' 'F0L' 'F0L' 'F0L'\n",
      " 'F0L' 'F0L' 'F0L' 'F0L' 'F0L' 'F0L' 'F0L' 'F0L' 'F0L' 'F0L' 'F0L' 'F0L'\n",
      " 'F0L' 'F0L' 'F0L' 'F0L' 'F0L' 'F0L' 'F0L' 'F0L' 'F0L' 'F0L' 'F0L' 'F0L'\n",
      " 'F0L' 'F0L' 'F0L' 'F0L' 'F0L' 'F0L' 'F0L' 'F0L' 'F0L' 'F0L' 'F0L' 'F0L'\n",
      " 'F0L' 'F0L' 'F0L' 'F0L' 'F0L' 'F0L' 'F0L' 'F0L' 'F0L' 'F0L' 'F0L' 'F0L'\n",
      " 'F0L' 'F0L' 'F0L' 'F0L' 'F0L' 'F0L' 'F0L' 'F0L' 'F0L' 'F0L' 'F0L' 'F0L'\n",
      " 'F0L' 'F0L' 'F0L' 'F0L']\n",
      "Actual labels: ['F0L' 'F1L' 'F0L' 'F0L' 'F1L' 'F1L' 'F0L' 'F1L' 'F1L' 'F0L' 'F1L' 'F1L'\n",
      " 'F0L' 'F0L' 'F1L' 'F0L' 'F1L' 'F0L' 'F0L' 'F1L' 'F1L' 'F1L' 'F0L' 'F0L'\n",
      " 'F0L' 'F0L' 'F1L' 'F0L' 'F0L' 'F0L' 'F0L' 'F1L' 'F0L' 'F0L' 'F1L' 'F1L'\n",
      " 'F1L' 'F1L' 'F0L' 'F1L' 'F1L' 'F0L' 'F1L' 'F1L' 'F0L' 'F0L' 'F1L' 'F1L'\n",
      " 'F1L' 'F0L' 'F1L' 'F0L' 'F1L' 'F0L' 'F0L' 'F1L' 'F0L' 'F0L' 'F0L' 'F0L'\n",
      " 'F1L' 'F1L' 'F0L' 'F0L' 'F1L' 'F0L' 'F0L' 'F1L' 'F1L' 'F1L' 'F0L' 'F0L'\n",
      " 'F0L' 'F0L' 'F1L' 'F0L' 'F1L' 'F1L' 'F0L' 'F0L' 'F1L' 'F0L' 'F0L' 'F1L'\n",
      " 'F0L' 'F0L' 'F1L' 'F0L' 'F0L' 'F0L' 'F0L' 'F1L' 'F1L' 'F1L' 'F0L' 'F1L'\n",
      " 'F0L' 'F0L' 'F1L' 'F1L']\n",
      "Processed predicted labels: ['0', '0', '0', '0', '0', '0', '0', '0', '0', '0', '0', '0', '0', '0', '0', '0', '0', '0', '0', '0', '0', '0', '0', '0', '0', '0', '0', '0', '0', '0', '0', '0', '0', '0', '0', '0', '0', '0', '0', '0', '0', '0', '0', '0', '0', '0', '0', '0', '0', '0', '0', '0', '0', '0', '0', '0', '0', '0', '0', '0', '0', '0', '0', '0', '0', '0', '0', '0', '0', '0', '0', '0', '0', '0', '0', '0', '0', '0', '0', '0', '0', '0', '0', '0', '0', '0', '0', '0', '0', '0', '0', '0', '0', '0', '0', '0', '0', '0', '0', '0']\n",
      "Actual labels: ['F0L' 'F1L' 'F0L' 'F0L' 'F1L' 'F1L' 'F0L' 'F1L' 'F1L' 'F0L' 'F1L' 'F1L'\n",
      " 'F0L' 'F0L' 'F1L' 'F0L' 'F1L' 'F0L' 'F0L' 'F1L' 'F1L' 'F1L' 'F0L' 'F0L'\n",
      " 'F0L' 'F0L' 'F1L' 'F0L' 'F0L' 'F0L' 'F0L' 'F1L' 'F0L' 'F0L' 'F1L' 'F1L'\n",
      " 'F1L' 'F1L' 'F0L' 'F1L' 'F1L' 'F0L' 'F1L' 'F1L' 'F0L' 'F0L' 'F1L' 'F1L'\n",
      " 'F1L' 'F0L' 'F1L' 'F0L' 'F1L' 'F0L' 'F0L' 'F1L' 'F0L' 'F0L' 'F0L' 'F0L'\n",
      " 'F1L' 'F1L' 'F0L' 'F0L' 'F1L' 'F0L' 'F0L' 'F1L' 'F1L' 'F1L' 'F0L' 'F0L'\n",
      " 'F0L' 'F0L' 'F1L' 'F0L' 'F1L' 'F1L' 'F0L' 'F0L' 'F1L' 'F0L' 'F0L' 'F1L'\n",
      " 'F0L' 'F0L' 'F1L' 'F0L' 'F0L' 'F0L' 'F0L' 'F1L' 'F1L' 'F1L' 'F0L' 'F1L'\n",
      " 'F0L' 'F0L' 'F1L' 'F1L']\n",
      "Accuracy: 0.0\n",
      "\n",
      "Classification Report:\n",
      "              precision    recall  f1-score   support\n",
      "\n",
      "           0       0.00      0.00      0.00       0.0\n",
      "         F0L       0.00      0.00      0.00      54.0\n",
      "         F1L       0.00      0.00      0.00      46.0\n",
      "\n",
      "    accuracy                           0.00     100.0\n",
      "   macro avg       0.00      0.00      0.00     100.0\n",
      "weighted avg       0.00      0.00      0.00     100.0\n",
      "\n",
      "\n",
      "Confusion Matrix:\n",
      "[[ 0  0  0]\n",
      " [54  0  0]\n",
      " [46  0  0]]\n"
     ]
    },
    {
     "name": "stderr",
     "output_type": "stream",
     "text": [
      "d:\\Anaconda\\Lib\\site-packages\\sklearn\\metrics\\_classification.py:1344: UndefinedMetricWarning: Precision and F-score are ill-defined and being set to 0.0 in labels with no predicted samples. Use `zero_division` parameter to control this behavior.\n",
      "  _warn_prf(average, modifier, msg_start, len(result))\n",
      "d:\\Anaconda\\Lib\\site-packages\\sklearn\\metrics\\_classification.py:1344: UndefinedMetricWarning: Recall and F-score are ill-defined and being set to 0.0 in labels with no true samples. Use `zero_division` parameter to control this behavior.\n",
      "  _warn_prf(average, modifier, msg_start, len(result))\n",
      "d:\\Anaconda\\Lib\\site-packages\\sklearn\\metrics\\_classification.py:1344: UndefinedMetricWarning: Precision and F-score are ill-defined and being set to 0.0 in labels with no predicted samples. Use `zero_division` parameter to control this behavior.\n",
      "  _warn_prf(average, modifier, msg_start, len(result))\n",
      "d:\\Anaconda\\Lib\\site-packages\\sklearn\\metrics\\_classification.py:1344: UndefinedMetricWarning: Recall and F-score are ill-defined and being set to 0.0 in labels with no true samples. Use `zero_division` parameter to control this behavior.\n",
      "  _warn_prf(average, modifier, msg_start, len(result))\n",
      "d:\\Anaconda\\Lib\\site-packages\\sklearn\\metrics\\_classification.py:1344: UndefinedMetricWarning: Precision and F-score are ill-defined and being set to 0.0 in labels with no predicted samples. Use `zero_division` parameter to control this behavior.\n",
      "  _warn_prf(average, modifier, msg_start, len(result))\n",
      "d:\\Anaconda\\Lib\\site-packages\\sklearn\\metrics\\_classification.py:1344: UndefinedMetricWarning: Recall and F-score are ill-defined and being set to 0.0 in labels with no true samples. Use `zero_division` parameter to control this behavior.\n",
      "  _warn_prf(average, modifier, msg_start, len(result))\n"
     ]
    }
   ],
   "source": [
    "# Train the KNN model\n",
    "from sklearn import model_selection,neighbors\n",
    "clf = neighbors.KNeighborsClassifier()\n",
    "knn_clf = clf.fit(x_train, y_train)\n",
    "\n",
    "\n",
    "# Make predictions on the test data (F1L)\n",
    "y_predict = knn_clf.predict(x_test)\n",
    "y_predict_processed = ['0' if label == 'F0L' else label for label in y_predict]\n",
    "\n",
    "\n",
    "# Check the predictions and actual values\n",
    "print('Predicted labels:', y_predict)\n",
    "print('Actual labels:', y_test.values)\n",
    "\n",
    "print('Processed predicted labels:', y_predict_processed)\n",
    "print('Actual labels:', y_test.values)\n",
    "\n",
    "# Step 10: Calculate the accuracy with processed predictions\n",
    "accuracy = accuracy_score(y_test, y_predict_processed)\n",
    "print(\"Accuracy:\", accuracy)\n",
    "\n",
    "# Step 11: Print classification report for detailed analysis\n",
    "print(\"\\nClassification Report:\")\n",
    "print(classification_report(y_test, y_predict_processed))\n",
    "\n",
    "# Step 12: Print confusion matrix to visualize misclassifications\n",
    "print(\"\\nConfusion Matrix:\")\n",
    "print(confusion_matrix(y_test, y_predict_processed))\n"
   ]
  },
  {
   "cell_type": "code",
   "execution_count": 24,
   "metadata": {},
   "outputs": [
    {
     "name": "stdout",
     "output_type": "stream",
     "text": [
      "actual values of fault :\n",
      "74    F0L\n",
      "29    F1L\n",
      "63    F0L\n",
      "78    F0L\n",
      "78    F1L\n",
      "     ... \n",
      "47    F1L\n",
      "2     F0L\n",
      "22    F0L\n",
      "2     F1L\n",
      "97    F1L\n",
      "Name: Type, Length: 100, dtype: object\n",
      "Accuracy: 0.54\n"
     ]
    }
   ],
   "source": [
    "print(\"actual values of fault :\")\n",
    "print(y_test)\n",
    "accuracy = accuracy_score(y_test, y_predict)\n",
    "print(\"Accuracy:\", accuracy)"
   ]
  },
  {
   "cell_type": "code",
   "execution_count": 25,
   "metadata": {},
   "outputs": [
    {
     "name": "stdout",
     "output_type": "stream",
     "text": [
      "Type\n",
      "F0L    143715\n",
      "Name: count, dtype: int64\n",
      "Type\n",
      "F0L    54\n",
      "F1L    46\n",
      "Name: count, dtype: int64\n"
     ]
    }
   ],
   "source": [
    "print(y_train.value_counts())\n",
    "print(y_test.value_counts())\n"
   ]
  }
 ],
 "metadata": {
  "kernelspec": {
   "display_name": "base",
   "language": "python",
   "name": "python3"
  },
  "language_info": {
   "codemirror_mode": {
    "name": "ipython",
    "version": 3
   },
   "file_extension": ".py",
   "mimetype": "text/x-python",
   "name": "python",
   "nbconvert_exporter": "python",
   "pygments_lexer": "ipython3",
   "version": "3.11.7"
  }
 },
 "nbformat": 4,
 "nbformat_minor": 2
}
